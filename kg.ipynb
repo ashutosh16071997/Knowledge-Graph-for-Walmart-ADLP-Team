{
 "cells": [
  {
   "cell_type": "code",
   "execution_count": 1,
   "id": "f85f1997-0a27-4a55-af4e-bbad4506f45e",
   "metadata": {},
   "outputs": [
    {
     "data": {
      "text/html": [
       "<div>\n",
       "<style scoped>\n",
       "    .dataframe tbody tr th:only-of-type {\n",
       "        vertical-align: middle;\n",
       "    }\n",
       "\n",
       "    .dataframe tbody tr th {\n",
       "        vertical-align: top;\n",
       "    }\n",
       "\n",
       "    .dataframe thead th {\n",
       "        text-align: right;\n",
       "    }\n",
       "</style>\n",
       "<table border=\"1\" class=\"dataframe\">\n",
       "  <thead>\n",
       "    <tr style=\"text-align: right;\">\n",
       "      <th></th>\n",
       "      <th>CONSUMER_ITEM_NBR</th>\n",
       "      <th>PRODUCT_STATUS</th>\n",
       "      <th>SHLFLBL2_SIZE_DESC</th>\n",
       "      <th>SELL_UOM_CODE</th>\n",
       "      <th>DEPT_NBR</th>\n",
       "      <th>SKU_ID</th>\n",
       "      <th>BRAND_ID</th>\n",
       "      <th>ITEM1_DESC</th>\n",
       "      <th>ITEM_WEIGHT_UOM_CD</th>\n",
       "      <th>ITEM_STATUS_CODE</th>\n",
       "      <th>ean</th>\n",
       "    </tr>\n",
       "  </thead>\n",
       "  <tbody>\n",
       "    <tr>\n",
       "      <th>0</th>\n",
       "      <td>1000271</td>\n",
       "      <td>I</td>\n",
       "      <td>10PK</td>\n",
       "      <td>EA</td>\n",
       "      <td>46</td>\n",
       "      <td>869968</td>\n",
       "      <td>5.0</td>\n",
       "      <td>GILLETTE GII</td>\n",
       "      <td>EA</td>\n",
       "      <td>A</td>\n",
       "      <td>3014260208950</td>\n",
       "    </tr>\n",
       "    <tr>\n",
       "      <th>1</th>\n",
       "      <td>1000307</td>\n",
       "      <td>A</td>\n",
       "      <td>1PK</td>\n",
       "      <td>EA</td>\n",
       "      <td>13</td>\n",
       "      <td>869987</td>\n",
       "      <td>5.0</td>\n",
       "      <td>BRYANT MAY MATCHES</td>\n",
       "      <td>EA</td>\n",
       "      <td>A</td>\n",
       "      <td>50226320</td>\n",
       "    </tr>\n",
       "    <tr>\n",
       "      <th>2</th>\n",
       "      <td>1000796</td>\n",
       "      <td>A</td>\n",
       "      <td>6 PK</td>\n",
       "      <td>EA</td>\n",
       "      <td>39</td>\n",
       "      <td>873096</td>\n",
       "      <td>5.0</td>\n",
       "      <td>BRACES JAM CAKES 6PK</td>\n",
       "      <td>EA</td>\n",
       "      <td>A</td>\n",
       "      <td>5011376000919</td>\n",
       "    </tr>\n",
       "    <tr>\n",
       "      <th>3</th>\n",
       "      <td>1000810</td>\n",
       "      <td>I</td>\n",
       "      <td>400G</td>\n",
       "      <td>GR</td>\n",
       "      <td>81</td>\n",
       "      <td>873103</td>\n",
       "      <td>5.0</td>\n",
       "      <td>BRACES WHITE</td>\n",
       "      <td>KG</td>\n",
       "      <td>A</td>\n",
       "      <td>5011376002364</td>\n",
       "    </tr>\n",
       "    <tr>\n",
       "      <th>4</th>\n",
       "      <td>1000843</td>\n",
       "      <td>I</td>\n",
       "      <td>800G</td>\n",
       "      <td>GR</td>\n",
       "      <td>81</td>\n",
       "      <td>874424</td>\n",
       "      <td>5.0</td>\n",
       "      <td>BRACES XXX THK BREAD XXX THK SLICED 800G</td>\n",
       "      <td>KG</td>\n",
       "      <td>A</td>\n",
       "      <td>5011376002289</td>\n",
       "    </tr>\n",
       "    <tr>\n",
       "      <th>...</th>\n",
       "      <td>...</td>\n",
       "      <td>...</td>\n",
       "      <td>...</td>\n",
       "      <td>...</td>\n",
       "      <td>...</td>\n",
       "      <td>...</td>\n",
       "      <td>...</td>\n",
       "      <td>...</td>\n",
       "      <td>...</td>\n",
       "      <td>...</td>\n",
       "      <td>...</td>\n",
       "    </tr>\n",
       "    <tr>\n",
       "      <th>226050</th>\n",
       "      <td>998707</td>\n",
       "      <td>A</td>\n",
       "      <td>NaN</td>\n",
       "      <td>KG</td>\n",
       "      <td>98</td>\n",
       "      <td>1000020329209</td>\n",
       "      <td>1.0</td>\n",
       "      <td>BAKER CH WHITE FLOUR</td>\n",
       "      <td>KG</td>\n",
       "      <td>A</td>\n",
       "      <td>400098168086</td>\n",
       "    </tr>\n",
       "    <tr>\n",
       "      <th>226051</th>\n",
       "      <td>998758</td>\n",
       "      <td>I</td>\n",
       "      <td>345G</td>\n",
       "      <td>GR</td>\n",
       "      <td>51</td>\n",
       "      <td>696363</td>\n",
       "      <td>274428.0</td>\n",
       "      <td>BSEL BACON</td>\n",
       "      <td>KG</td>\n",
       "      <td>D</td>\n",
       "      <td>5054070504574</td>\n",
       "    </tr>\n",
       "    <tr>\n",
       "      <th>226052</th>\n",
       "      <td>999220</td>\n",
       "      <td>A</td>\n",
       "      <td>85G</td>\n",
       "      <td>GR</td>\n",
       "      <td>55</td>\n",
       "      <td>709323</td>\n",
       "      <td>5.0</td>\n",
       "      <td>ROMNEYS MINT CAKE</td>\n",
       "      <td>KG</td>\n",
       "      <td>A</td>\n",
       "      <td>5022259000049</td>\n",
       "    </tr>\n",
       "    <tr>\n",
       "      <th>226053</th>\n",
       "      <td>999221</td>\n",
       "      <td>A</td>\n",
       "      <td>85G</td>\n",
       "      <td>GR</td>\n",
       "      <td>55</td>\n",
       "      <td>709324</td>\n",
       "      <td>5.0</td>\n",
       "      <td>ROMNEYS MINT CAKE</td>\n",
       "      <td>KG</td>\n",
       "      <td>A</td>\n",
       "      <td>5022259000056</td>\n",
       "    </tr>\n",
       "    <tr>\n",
       "      <th>226054</th>\n",
       "      <td>999825</td>\n",
       "      <td>I</td>\n",
       "      <td>100ML</td>\n",
       "      <td>ML</td>\n",
       "      <td>40</td>\n",
       "      <td>910002024037</td>\n",
       "      <td>5.0</td>\n",
       "      <td>NIZORAL JOHNSON &amp; JOHNSON</td>\n",
       "      <td>ML</td>\n",
       "      <td>A</td>\n",
       "      <td>5027097310039</td>\n",
       "    </tr>\n",
       "  </tbody>\n",
       "</table>\n",
       "<p>226055 rows × 11 columns</p>\n",
       "</div>"
      ],
      "text/plain": [
       "        CONSUMER_ITEM_NBR PRODUCT_STATUS SHLFLBL2_SIZE_DESC SELL_UOM_CODE  \\\n",
       "0                 1000271              I               10PK            EA   \n",
       "1                 1000307              A                1PK            EA   \n",
       "2                 1000796              A               6 PK            EA   \n",
       "3                 1000810              I               400G            GR   \n",
       "4                 1000843              I               800G            GR   \n",
       "...                   ...            ...                ...           ...   \n",
       "226050             998707              A                NaN            KG   \n",
       "226051             998758              I               345G            GR   \n",
       "226052             999220              A                85G            GR   \n",
       "226053             999221              A                85G            GR   \n",
       "226054             999825              I              100ML            ML   \n",
       "\n",
       "        DEPT_NBR         SKU_ID  BRAND_ID  \\\n",
       "0             46         869968       5.0   \n",
       "1             13         869987       5.0   \n",
       "2             39         873096       5.0   \n",
       "3             81         873103       5.0   \n",
       "4             81         874424       5.0   \n",
       "...          ...            ...       ...   \n",
       "226050        98  1000020329209       1.0   \n",
       "226051        51         696363  274428.0   \n",
       "226052        55         709323       5.0   \n",
       "226053        55         709324       5.0   \n",
       "226054        40   910002024037       5.0   \n",
       "\n",
       "                                      ITEM1_DESC ITEM_WEIGHT_UOM_CD  \\\n",
       "0                                  GILLETTE GII                  EA   \n",
       "1                            BRYANT MAY MATCHES                  EA   \n",
       "2                          BRACES JAM CAKES 6PK                  EA   \n",
       "3                                  BRACES WHITE                  KG   \n",
       "4       BRACES XXX THK BREAD XXX THK SLICED 800G                 KG   \n",
       "...                                          ...                ...   \n",
       "226050                     BAKER CH WHITE FLOUR                  KG   \n",
       "226051                               BSEL BACON                  KG   \n",
       "226052                        ROMNEYS MINT CAKE                  KG   \n",
       "226053                        ROMNEYS MINT CAKE                  KG   \n",
       "226054                 NIZORAL JOHNSON & JOHNSON                 ML   \n",
       "\n",
       "       ITEM_STATUS_CODE            ean  \n",
       "0                     A  3014260208950  \n",
       "1                     A       50226320  \n",
       "2                     A  5011376000919  \n",
       "3                     A  5011376002364  \n",
       "4                     A  5011376002289  \n",
       "...                 ...            ...  \n",
       "226050                A   400098168086  \n",
       "226051                D  5054070504574  \n",
       "226052                A  5022259000049  \n",
       "226053                A  5022259000056  \n",
       "226054                A  5027097310039  \n",
       "\n",
       "[226055 rows x 11 columns]"
      ]
     },
     "execution_count": 1,
     "metadata": {},
     "output_type": "execute_result"
    }
   ],
   "source": [
    "import pandas as pd\n",
    "LOCAL_PATH = '/data/knowledge_graph/source_catalog_info.csv'\n",
    "dataset1 = pd.read_csv(LOCAL_PATH) \n",
    "#dataset1['ITEM2_DESC'].fillna('',inplace = True)\n",
    "#dataset1['ITEM1_DESC'] = dataset1['ITEM1_DESC']+ \" \" + dataset1['ITEM2_DESC']\n",
    "dataset1"
   ]
  },
  {
   "cell_type": "code",
   "execution_count": 2,
   "id": "fee3d64f-5d46-4c14-8219-e9cfc3f385e7",
   "metadata": {},
   "outputs": [
    {
     "name": "stdout",
     "output_type": "stream",
     "text": [
      "\u001b[38;5;2m✔ Download and installation successful\u001b[0m\n",
      "You can now load the package via spacy.load('en_core_web_sm')\n"
     ]
    }
   ],
   "source": [
    "import spacy\n",
    "from spacy.lang.en import English\n",
    "import networkx as nx\n",
    "import matplotlib.pyplot as plt\n",
    "import re\n",
    "import pandas as pd\n",
    "import bs4\n",
    "import requests\n",
    "from spacy import displacy\n",
    "from spacy.matcher import Matcher \n",
    "from spacy.tokens import Span\n",
    "spacy.cli.download(\"en_core_web_sm\")\n",
    "nlp_model = spacy.load(\"en_core_web_sm\")"
   ]
  },
  {
   "cell_type": "code",
   "execution_count": 3,
   "id": "2e2b5c1c-da55-4a1f-8ae6-9701aa233b4a",
   "metadata": {},
   "outputs": [],
   "source": [
    "def get_clean(x):\n",
    "    x = str(x).lower().replace('\\\\', '').replace('_', ' ')\n",
    "    x = re.sub(\"(.)\\\\1{2,}\", \"\\\\1\", x)\n",
    "    return x"
   ]
  },
  {
   "cell_type": "code",
   "execution_count": 4,
   "id": "a6622e22-bbdb-430d-be7e-48c7b23a8d5f",
   "metadata": {},
   "outputs": [],
   "source": [
    "#!pip install git+https://github.com/laxmimerit/preprocess_kgptalkie.git\n",
    "import re"
   ]
  },
  {
   "cell_type": "code",
   "execution_count": 5,
   "id": "a5da1d57-84f6-4b52-a7b6-7d88e8e0c401",
   "metadata": {},
   "outputs": [],
   "source": [
    "dataset1['ITEM1_DESC'] = dataset1['ITEM1_DESC'].apply(lambda x: get_clean(x))"
   ]
  },
  {
   "cell_type": "code",
   "execution_count": 6,
   "id": "0964ce8b-e45a-4be4-ac42-473521815786",
   "metadata": {},
   "outputs": [
    {
     "data": {
      "text/html": [
       "<div>\n",
       "<style scoped>\n",
       "    .dataframe tbody tr th:only-of-type {\n",
       "        vertical-align: middle;\n",
       "    }\n",
       "\n",
       "    .dataframe tbody tr th {\n",
       "        vertical-align: top;\n",
       "    }\n",
       "\n",
       "    .dataframe thead th {\n",
       "        text-align: right;\n",
       "    }\n",
       "</style>\n",
       "<table border=\"1\" class=\"dataframe\">\n",
       "  <thead>\n",
       "    <tr style=\"text-align: right;\">\n",
       "      <th></th>\n",
       "      <th>CONSUMER_ITEM_NBR</th>\n",
       "      <th>PRODUCT_STATUS</th>\n",
       "      <th>SHLFLBL2_SIZE_DESC</th>\n",
       "      <th>SELL_UOM_CODE</th>\n",
       "      <th>DEPT_NBR</th>\n",
       "      <th>SKU_ID</th>\n",
       "      <th>BRAND_ID</th>\n",
       "      <th>ITEM1_DESC</th>\n",
       "      <th>ITEM_WEIGHT_UOM_CD</th>\n",
       "      <th>ITEM_STATUS_CODE</th>\n",
       "      <th>ean</th>\n",
       "    </tr>\n",
       "  </thead>\n",
       "  <tbody>\n",
       "    <tr>\n",
       "      <th>0</th>\n",
       "      <td>1000271</td>\n",
       "      <td>I</td>\n",
       "      <td>10PK</td>\n",
       "      <td>EA</td>\n",
       "      <td>46</td>\n",
       "      <td>869968</td>\n",
       "      <td>5.0</td>\n",
       "      <td>gillette gii</td>\n",
       "      <td>EA</td>\n",
       "      <td>A</td>\n",
       "      <td>3014260208950</td>\n",
       "    </tr>\n",
       "    <tr>\n",
       "      <th>1</th>\n",
       "      <td>1000307</td>\n",
       "      <td>A</td>\n",
       "      <td>1PK</td>\n",
       "      <td>EA</td>\n",
       "      <td>13</td>\n",
       "      <td>869987</td>\n",
       "      <td>5.0</td>\n",
       "      <td>bryant may matches</td>\n",
       "      <td>EA</td>\n",
       "      <td>A</td>\n",
       "      <td>50226320</td>\n",
       "    </tr>\n",
       "    <tr>\n",
       "      <th>2</th>\n",
       "      <td>1000796</td>\n",
       "      <td>A</td>\n",
       "      <td>6 PK</td>\n",
       "      <td>EA</td>\n",
       "      <td>39</td>\n",
       "      <td>873096</td>\n",
       "      <td>5.0</td>\n",
       "      <td>braces jam cakes 6pk</td>\n",
       "      <td>EA</td>\n",
       "      <td>A</td>\n",
       "      <td>5011376000919</td>\n",
       "    </tr>\n",
       "    <tr>\n",
       "      <th>3</th>\n",
       "      <td>1000810</td>\n",
       "      <td>I</td>\n",
       "      <td>400G</td>\n",
       "      <td>GR</td>\n",
       "      <td>81</td>\n",
       "      <td>873103</td>\n",
       "      <td>5.0</td>\n",
       "      <td>braces white</td>\n",
       "      <td>KG</td>\n",
       "      <td>A</td>\n",
       "      <td>5011376002364</td>\n",
       "    </tr>\n",
       "    <tr>\n",
       "      <th>4</th>\n",
       "      <td>1000843</td>\n",
       "      <td>I</td>\n",
       "      <td>800G</td>\n",
       "      <td>GR</td>\n",
       "      <td>81</td>\n",
       "      <td>874424</td>\n",
       "      <td>5.0</td>\n",
       "      <td>braces x thk bread x thk sliced 800g</td>\n",
       "      <td>KG</td>\n",
       "      <td>A</td>\n",
       "      <td>5011376002289</td>\n",
       "    </tr>\n",
       "    <tr>\n",
       "      <th>...</th>\n",
       "      <td>...</td>\n",
       "      <td>...</td>\n",
       "      <td>...</td>\n",
       "      <td>...</td>\n",
       "      <td>...</td>\n",
       "      <td>...</td>\n",
       "      <td>...</td>\n",
       "      <td>...</td>\n",
       "      <td>...</td>\n",
       "      <td>...</td>\n",
       "      <td>...</td>\n",
       "    </tr>\n",
       "    <tr>\n",
       "      <th>226050</th>\n",
       "      <td>998707</td>\n",
       "      <td>A</td>\n",
       "      <td>NaN</td>\n",
       "      <td>KG</td>\n",
       "      <td>98</td>\n",
       "      <td>1000020329209</td>\n",
       "      <td>1.0</td>\n",
       "      <td>baker ch white flour</td>\n",
       "      <td>KG</td>\n",
       "      <td>A</td>\n",
       "      <td>400098168086</td>\n",
       "    </tr>\n",
       "    <tr>\n",
       "      <th>226051</th>\n",
       "      <td>998758</td>\n",
       "      <td>I</td>\n",
       "      <td>345G</td>\n",
       "      <td>GR</td>\n",
       "      <td>51</td>\n",
       "      <td>696363</td>\n",
       "      <td>274428.0</td>\n",
       "      <td>bsel bacon</td>\n",
       "      <td>KG</td>\n",
       "      <td>D</td>\n",
       "      <td>5054070504574</td>\n",
       "    </tr>\n",
       "    <tr>\n",
       "      <th>226052</th>\n",
       "      <td>999220</td>\n",
       "      <td>A</td>\n",
       "      <td>85G</td>\n",
       "      <td>GR</td>\n",
       "      <td>55</td>\n",
       "      <td>709323</td>\n",
       "      <td>5.0</td>\n",
       "      <td>romneys mint cake</td>\n",
       "      <td>KG</td>\n",
       "      <td>A</td>\n",
       "      <td>5022259000049</td>\n",
       "    </tr>\n",
       "    <tr>\n",
       "      <th>226053</th>\n",
       "      <td>999221</td>\n",
       "      <td>A</td>\n",
       "      <td>85G</td>\n",
       "      <td>GR</td>\n",
       "      <td>55</td>\n",
       "      <td>709324</td>\n",
       "      <td>5.0</td>\n",
       "      <td>romneys mint cake</td>\n",
       "      <td>KG</td>\n",
       "      <td>A</td>\n",
       "      <td>5022259000056</td>\n",
       "    </tr>\n",
       "    <tr>\n",
       "      <th>226054</th>\n",
       "      <td>999825</td>\n",
       "      <td>I</td>\n",
       "      <td>100ML</td>\n",
       "      <td>ML</td>\n",
       "      <td>40</td>\n",
       "      <td>910002024037</td>\n",
       "      <td>5.0</td>\n",
       "      <td>nizoral johnson &amp; johnson</td>\n",
       "      <td>ML</td>\n",
       "      <td>A</td>\n",
       "      <td>5027097310039</td>\n",
       "    </tr>\n",
       "  </tbody>\n",
       "</table>\n",
       "<p>226055 rows × 11 columns</p>\n",
       "</div>"
      ],
      "text/plain": [
       "        CONSUMER_ITEM_NBR PRODUCT_STATUS SHLFLBL2_SIZE_DESC SELL_UOM_CODE  \\\n",
       "0                 1000271              I               10PK            EA   \n",
       "1                 1000307              A                1PK            EA   \n",
       "2                 1000796              A               6 PK            EA   \n",
       "3                 1000810              I               400G            GR   \n",
       "4                 1000843              I               800G            GR   \n",
       "...                   ...            ...                ...           ...   \n",
       "226050             998707              A                NaN            KG   \n",
       "226051             998758              I               345G            GR   \n",
       "226052             999220              A                85G            GR   \n",
       "226053             999221              A                85G            GR   \n",
       "226054             999825              I              100ML            ML   \n",
       "\n",
       "        DEPT_NBR         SKU_ID  BRAND_ID  \\\n",
       "0             46         869968       5.0   \n",
       "1             13         869987       5.0   \n",
       "2             39         873096       5.0   \n",
       "3             81         873103       5.0   \n",
       "4             81         874424       5.0   \n",
       "...          ...            ...       ...   \n",
       "226050        98  1000020329209       1.0   \n",
       "226051        51         696363  274428.0   \n",
       "226052        55         709323       5.0   \n",
       "226053        55         709324       5.0   \n",
       "226054        40   910002024037       5.0   \n",
       "\n",
       "                                  ITEM1_DESC ITEM_WEIGHT_UOM_CD  \\\n",
       "0                              gillette gii                  EA   \n",
       "1                        bryant may matches                  EA   \n",
       "2                      braces jam cakes 6pk                  EA   \n",
       "3                              braces white                  KG   \n",
       "4       braces x thk bread x thk sliced 800g                 KG   \n",
       "...                                      ...                ...   \n",
       "226050                 baker ch white flour                  KG   \n",
       "226051                           bsel bacon                  KG   \n",
       "226052                    romneys mint cake                  KG   \n",
       "226053                    romneys mint cake                  KG   \n",
       "226054             nizoral johnson & johnson                 ML   \n",
       "\n",
       "       ITEM_STATUS_CODE            ean  \n",
       "0                     A  3014260208950  \n",
       "1                     A       50226320  \n",
       "2                     A  5011376000919  \n",
       "3                     A  5011376002364  \n",
       "4                     A  5011376002289  \n",
       "...                 ...            ...  \n",
       "226050                A   400098168086  \n",
       "226051                D  5054070504574  \n",
       "226052                A  5022259000049  \n",
       "226053                A  5022259000056  \n",
       "226054                A  5027097310039  \n",
       "\n",
       "[226055 rows x 11 columns]"
      ]
     },
     "execution_count": 6,
     "metadata": {},
     "output_type": "execute_result"
    }
   ],
   "source": [
    "dataset1"
   ]
  },
  {
   "cell_type": "code",
   "execution_count": 7,
   "id": "55d4c27c-ab2c-478c-95ef-7aeb57d58576",
   "metadata": {},
   "outputs": [],
   "source": [
    "def get_vec(x):\n",
    "    doc = nlp_model(x)\n",
    "    vec = doc.vector\n",
    "    return vec"
   ]
  },
  {
   "cell_type": "code",
   "execution_count": 8,
   "id": "84c39c8f-ff63-4419-82bf-aaea62605b50",
   "metadata": {},
   "outputs": [],
   "source": [
    "dataset1['vec'] = dataset1['ITEM1_DESC'].apply(lambda x: get_vec(x))"
   ]
  },
  {
   "cell_type": "code",
   "execution_count": 9,
   "id": "37a4c3a2-0e81-4f54-9cb4-7be912a5b822",
   "metadata": {},
   "outputs": [
    {
     "data": {
      "text/html": [
       "<div>\n",
       "<style scoped>\n",
       "    .dataframe tbody tr th:only-of-type {\n",
       "        vertical-align: middle;\n",
       "    }\n",
       "\n",
       "    .dataframe tbody tr th {\n",
       "        vertical-align: top;\n",
       "    }\n",
       "\n",
       "    .dataframe thead th {\n",
       "        text-align: right;\n",
       "    }\n",
       "</style>\n",
       "<table border=\"1\" class=\"dataframe\">\n",
       "  <thead>\n",
       "    <tr style=\"text-align: right;\">\n",
       "      <th></th>\n",
       "      <th>CONSUMER_ITEM_NBR</th>\n",
       "      <th>PRODUCT_STATUS</th>\n",
       "      <th>SHLFLBL2_SIZE_DESC</th>\n",
       "      <th>SELL_UOM_CODE</th>\n",
       "      <th>DEPT_NBR</th>\n",
       "      <th>SKU_ID</th>\n",
       "      <th>BRAND_ID</th>\n",
       "      <th>ITEM1_DESC</th>\n",
       "      <th>ITEM_WEIGHT_UOM_CD</th>\n",
       "      <th>ITEM_STATUS_CODE</th>\n",
       "      <th>ean</th>\n",
       "      <th>vec</th>\n",
       "    </tr>\n",
       "  </thead>\n",
       "  <tbody>\n",
       "    <tr>\n",
       "      <th>0</th>\n",
       "      <td>1000271</td>\n",
       "      <td>I</td>\n",
       "      <td>10PK</td>\n",
       "      <td>EA</td>\n",
       "      <td>46</td>\n",
       "      <td>869968</td>\n",
       "      <td>5.0</td>\n",
       "      <td>gillette gii</td>\n",
       "      <td>EA</td>\n",
       "      <td>A</td>\n",
       "      <td>3014260208950</td>\n",
       "      <td>[1.3134654, 0.9327382, -0.19462016, -0.1670318...</td>\n",
       "    </tr>\n",
       "    <tr>\n",
       "      <th>1</th>\n",
       "      <td>1000307</td>\n",
       "      <td>A</td>\n",
       "      <td>1PK</td>\n",
       "      <td>EA</td>\n",
       "      <td>13</td>\n",
       "      <td>869987</td>\n",
       "      <td>5.0</td>\n",
       "      <td>bryant may matches</td>\n",
       "      <td>EA</td>\n",
       "      <td>A</td>\n",
       "      <td>50226320</td>\n",
       "      <td>[0.2396692, -0.12797767, -0.054618787, 0.29479...</td>\n",
       "    </tr>\n",
       "    <tr>\n",
       "      <th>2</th>\n",
       "      <td>1000796</td>\n",
       "      <td>A</td>\n",
       "      <td>6 PK</td>\n",
       "      <td>EA</td>\n",
       "      <td>39</td>\n",
       "      <td>873096</td>\n",
       "      <td>5.0</td>\n",
       "      <td>braces jam cakes 6pk</td>\n",
       "      <td>EA</td>\n",
       "      <td>A</td>\n",
       "      <td>5011376000919</td>\n",
       "      <td>[0.3218951, 0.3121152, -0.29309195, -0.1171498...</td>\n",
       "    </tr>\n",
       "    <tr>\n",
       "      <th>3</th>\n",
       "      <td>1000810</td>\n",
       "      <td>I</td>\n",
       "      <td>400G</td>\n",
       "      <td>GR</td>\n",
       "      <td>81</td>\n",
       "      <td>873103</td>\n",
       "      <td>5.0</td>\n",
       "      <td>braces white</td>\n",
       "      <td>KG</td>\n",
       "      <td>A</td>\n",
       "      <td>5011376002364</td>\n",
       "      <td>[0.009727888, -0.29691276, -0.020868212, -0.52...</td>\n",
       "    </tr>\n",
       "    <tr>\n",
       "      <th>4</th>\n",
       "      <td>1000843</td>\n",
       "      <td>I</td>\n",
       "      <td>800G</td>\n",
       "      <td>GR</td>\n",
       "      <td>81</td>\n",
       "      <td>874424</td>\n",
       "      <td>5.0</td>\n",
       "      <td>braces x thk bread x thk sliced 800g</td>\n",
       "      <td>KG</td>\n",
       "      <td>A</td>\n",
       "      <td>5011376002289</td>\n",
       "      <td>[0.03518779, 0.06940142, -0.089584425, -0.2151...</td>\n",
       "    </tr>\n",
       "    <tr>\n",
       "      <th>...</th>\n",
       "      <td>...</td>\n",
       "      <td>...</td>\n",
       "      <td>...</td>\n",
       "      <td>...</td>\n",
       "      <td>...</td>\n",
       "      <td>...</td>\n",
       "      <td>...</td>\n",
       "      <td>...</td>\n",
       "      <td>...</td>\n",
       "      <td>...</td>\n",
       "      <td>...</td>\n",
       "      <td>...</td>\n",
       "    </tr>\n",
       "    <tr>\n",
       "      <th>226050</th>\n",
       "      <td>998707</td>\n",
       "      <td>A</td>\n",
       "      <td>NaN</td>\n",
       "      <td>KG</td>\n",
       "      <td>98</td>\n",
       "      <td>1000020329209</td>\n",
       "      <td>1.0</td>\n",
       "      <td>baker ch white flour</td>\n",
       "      <td>KG</td>\n",
       "      <td>A</td>\n",
       "      <td>400098168086</td>\n",
       "      <td>[1.4682845, 0.4678797, -0.0624689, -0.38961735...</td>\n",
       "    </tr>\n",
       "    <tr>\n",
       "      <th>226051</th>\n",
       "      <td>998758</td>\n",
       "      <td>I</td>\n",
       "      <td>345G</td>\n",
       "      <td>GR</td>\n",
       "      <td>51</td>\n",
       "      <td>696363</td>\n",
       "      <td>274428.0</td>\n",
       "      <td>bsel bacon</td>\n",
       "      <td>KG</td>\n",
       "      <td>D</td>\n",
       "      <td>5054070504574</td>\n",
       "      <td>[1.7015938, 1.0359961, -0.08306439, -0.4515077...</td>\n",
       "    </tr>\n",
       "    <tr>\n",
       "      <th>226052</th>\n",
       "      <td>999220</td>\n",
       "      <td>A</td>\n",
       "      <td>85G</td>\n",
       "      <td>GR</td>\n",
       "      <td>55</td>\n",
       "      <td>709323</td>\n",
       "      <td>5.0</td>\n",
       "      <td>romneys mint cake</td>\n",
       "      <td>KG</td>\n",
       "      <td>A</td>\n",
       "      <td>5022259000049</td>\n",
       "      <td>[1.1604209, 0.2855107, 0.37152556, 0.12131924,...</td>\n",
       "    </tr>\n",
       "    <tr>\n",
       "      <th>226053</th>\n",
       "      <td>999221</td>\n",
       "      <td>A</td>\n",
       "      <td>85G</td>\n",
       "      <td>GR</td>\n",
       "      <td>55</td>\n",
       "      <td>709324</td>\n",
       "      <td>5.0</td>\n",
       "      <td>romneys mint cake</td>\n",
       "      <td>KG</td>\n",
       "      <td>A</td>\n",
       "      <td>5022259000056</td>\n",
       "      <td>[1.1604209, 0.2855107, 0.37152556, 0.12131924,...</td>\n",
       "    </tr>\n",
       "    <tr>\n",
       "      <th>226054</th>\n",
       "      <td>999825</td>\n",
       "      <td>I</td>\n",
       "      <td>100ML</td>\n",
       "      <td>ML</td>\n",
       "      <td>40</td>\n",
       "      <td>910002024037</td>\n",
       "      <td>5.0</td>\n",
       "      <td>nizoral johnson &amp; johnson</td>\n",
       "      <td>ML</td>\n",
       "      <td>A</td>\n",
       "      <td>5027097310039</td>\n",
       "      <td>[1.219104, 0.00811781, -0.77087593, -0.1365411...</td>\n",
       "    </tr>\n",
       "  </tbody>\n",
       "</table>\n",
       "<p>226055 rows × 12 columns</p>\n",
       "</div>"
      ],
      "text/plain": [
       "        CONSUMER_ITEM_NBR PRODUCT_STATUS SHLFLBL2_SIZE_DESC SELL_UOM_CODE  \\\n",
       "0                 1000271              I               10PK            EA   \n",
       "1                 1000307              A                1PK            EA   \n",
       "2                 1000796              A               6 PK            EA   \n",
       "3                 1000810              I               400G            GR   \n",
       "4                 1000843              I               800G            GR   \n",
       "...                   ...            ...                ...           ...   \n",
       "226050             998707              A                NaN            KG   \n",
       "226051             998758              I               345G            GR   \n",
       "226052             999220              A                85G            GR   \n",
       "226053             999221              A                85G            GR   \n",
       "226054             999825              I              100ML            ML   \n",
       "\n",
       "        DEPT_NBR         SKU_ID  BRAND_ID  \\\n",
       "0             46         869968       5.0   \n",
       "1             13         869987       5.0   \n",
       "2             39         873096       5.0   \n",
       "3             81         873103       5.0   \n",
       "4             81         874424       5.0   \n",
       "...          ...            ...       ...   \n",
       "226050        98  1000020329209       1.0   \n",
       "226051        51         696363  274428.0   \n",
       "226052        55         709323       5.0   \n",
       "226053        55         709324       5.0   \n",
       "226054        40   910002024037       5.0   \n",
       "\n",
       "                                  ITEM1_DESC ITEM_WEIGHT_UOM_CD  \\\n",
       "0                              gillette gii                  EA   \n",
       "1                        bryant may matches                  EA   \n",
       "2                      braces jam cakes 6pk                  EA   \n",
       "3                              braces white                  KG   \n",
       "4       braces x thk bread x thk sliced 800g                 KG   \n",
       "...                                      ...                ...   \n",
       "226050                 baker ch white flour                  KG   \n",
       "226051                           bsel bacon                  KG   \n",
       "226052                    romneys mint cake                  KG   \n",
       "226053                    romneys mint cake                  KG   \n",
       "226054             nizoral johnson & johnson                 ML   \n",
       "\n",
       "       ITEM_STATUS_CODE            ean  \\\n",
       "0                     A  3014260208950   \n",
       "1                     A       50226320   \n",
       "2                     A  5011376000919   \n",
       "3                     A  5011376002364   \n",
       "4                     A  5011376002289   \n",
       "...                 ...            ...   \n",
       "226050                A   400098168086   \n",
       "226051                D  5054070504574   \n",
       "226052                A  5022259000049   \n",
       "226053                A  5022259000056   \n",
       "226054                A  5027097310039   \n",
       "\n",
       "                                                      vec  \n",
       "0       [1.3134654, 0.9327382, -0.19462016, -0.1670318...  \n",
       "1       [0.2396692, -0.12797767, -0.054618787, 0.29479...  \n",
       "2       [0.3218951, 0.3121152, -0.29309195, -0.1171498...  \n",
       "3       [0.009727888, -0.29691276, -0.020868212, -0.52...  \n",
       "4       [0.03518779, 0.06940142, -0.089584425, -0.2151...  \n",
       "...                                                   ...  \n",
       "226050  [1.4682845, 0.4678797, -0.0624689, -0.38961735...  \n",
       "226051  [1.7015938, 1.0359961, -0.08306439, -0.4515077...  \n",
       "226052  [1.1604209, 0.2855107, 0.37152556, 0.12131924,...  \n",
       "226053  [1.1604209, 0.2855107, 0.37152556, 0.12131924,...  \n",
       "226054  [1.219104, 0.00811781, -0.77087593, -0.1365411...  \n",
       "\n",
       "[226055 rows x 12 columns]"
      ]
     },
     "execution_count": 9,
     "metadata": {},
     "output_type": "execute_result"
    }
   ],
   "source": [
    "dataset1"
   ]
  },
  {
   "cell_type": "code",
   "execution_count": 10,
   "id": "4fb1cc44-73f7-45e2-a5f3-3632d57e400c",
   "metadata": {},
   "outputs": [],
   "source": [
    "hashmap = {}\n",
    "for i in range(len(dataset1)):\n",
    "    temp = dataset1.SKU_ID[i]\n",
    "    if temp in hashmap:\n",
    "        continue\n",
    "    else:\n",
    "        hashmap[temp] = []\n",
    "        hashmap[temp].append(dataset1.CONSUMER_ITEM_NBR[i])\n",
    "        hashmap[temp].append(i)\n",
    "    \n"
   ]
  },
  {
   "cell_type": "code",
   "execution_count": 11,
   "id": "fba7bddc-cbf5-49e5-b39c-342f1ff4a144",
   "metadata": {},
   "outputs": [],
   "source": [
    "dictionary = {} \n",
    "for i in range(len(dataset1)):\n",
    "    temp  = dataset1.CONSUMER_ITEM_NBR[i]\n",
    "    dictionary[temp] = []\n",
    "    dictionary[temp].append(dataset1.DEPT_NBR[i])\n",
    "    dictionary[temp].append(dataset1.BRAND_ID[i])\n",
    "    dictionary[temp].append(dataset1.ITEM1_DESC[i])\n",
    "    dictionary[temp].append(str(dataset1.vec[i]))"
   ]
  },
  {
   "cell_type": "code",
   "execution_count": 12,
   "id": "d2f89e60-93cd-40de-807d-6b84f0a7e3ee",
   "metadata": {},
   "outputs": [
    {
     "name": "stdout",
     "output_type": "stream",
     "text": [
      "191535\n"
     ]
    }
   ],
   "source": [
    "print(len(hashmap))"
   ]
  },
  {
   "cell_type": "code",
   "execution_count": 13,
   "id": "3b5f8ae5-47db-4069-862a-712b781e4489",
   "metadata": {},
   "outputs": [
    {
     "data": {
      "text/html": [
       "<div>\n",
       "<style scoped>\n",
       "    .dataframe tbody tr th:only-of-type {\n",
       "        vertical-align: middle;\n",
       "    }\n",
       "\n",
       "    .dataframe tbody tr th {\n",
       "        vertical-align: top;\n",
       "    }\n",
       "\n",
       "    .dataframe thead th {\n",
       "        text-align: right;\n",
       "    }\n",
       "</style>\n",
       "<table border=\"1\" class=\"dataframe\">\n",
       "  <thead>\n",
       "    <tr style=\"text-align: right;\">\n",
       "      <th></th>\n",
       "      <th>sku_id</th>\n",
       "      <th>EAN</th>\n",
       "      <th>regulated_prd_name</th>\n",
       "      <th>ingrediants</th>\n",
       "      <th>nutritional_value</th>\n",
       "      <th>nutritional_info</th>\n",
       "    </tr>\n",
       "  </thead>\n",
       "  <tbody>\n",
       "    <tr>\n",
       "      <th>0</th>\n",
       "      <td>1000000378880</td>\n",
       "      <td>NaN</td>\n",
       "      <td>NaN</td>\n",
       "      <td>NaN</td>\n",
       "      <td>NaN</td>\n",
       "      <td>NaN</td>\n",
       "    </tr>\n",
       "    <tr>\n",
       "      <th>1</th>\n",
       "      <td>1000000379087</td>\n",
       "      <td>5012874140930</td>\n",
       "      <td>Full Colour Lip Liner 063 Eastend Snob</td>\n",
       "      <td>NaN</td>\n",
       "      <td>NaN</td>\n",
       "      <td>NaN</td>\n",
       "    </tr>\n",
       "    <tr>\n",
       "      <th>2</th>\n",
       "      <td>1000000379480</td>\n",
       "      <td>5032543006176</td>\n",
       "      <td>NaN</td>\n",
       "      <td>NaN</td>\n",
       "      <td>NaN</td>\n",
       "      <td>NaN</td>\n",
       "    </tr>\n",
       "    <tr>\n",
       "      <th>3</th>\n",
       "      <td>1000000379717</td>\n",
       "      <td>NaN</td>\n",
       "      <td>Vanilla ice cream and white chocolate (26%).</td>\n",
       "      <td>Reconstituted Skimmed Milk, Sugar, Cocoa Butte...</td>\n",
       "      <td>NaN</td>\n",
       "      <td>NaN</td>\n",
       "    </tr>\n",
       "    <tr>\n",
       "      <th>4</th>\n",
       "      <td>1000000379727</td>\n",
       "      <td>8000920400487</td>\n",
       "      <td>Pineapple ice cream with strawberry and lemon ...</td>\n",
       "      <td>Water, Sugar, Reconstituted Skimmed Milk, Gluc...</td>\n",
       "      <td>Halal:0,Vegetarian:1,Vegan:0,NoSoya:1,NoShellf...</td>\n",
       "      <td>Halal:0,Vegetarian:1,Vegan:0,NoSoya:1,NoShellf...</td>\n",
       "    </tr>\n",
       "    <tr>\n",
       "      <th>...</th>\n",
       "      <td>...</td>\n",
       "      <td>...</td>\n",
       "      <td>...</td>\n",
       "      <td>...</td>\n",
       "      <td>...</td>\n",
       "      <td>...</td>\n",
       "    </tr>\n",
       "    <tr>\n",
       "      <th>90687</th>\n",
       "      <td>985450</td>\n",
       "      <td>27281550</td>\n",
       "      <td>Carbonated apple and mango flavour water drink...</td>\n",
       "      <td>Carbonated Water, Citric Acid, Malic Acid, Fla...</td>\n",
       "      <td>NaN</td>\n",
       "      <td>NaN</td>\n",
       "    </tr>\n",
       "    <tr>\n",
       "      <th>90688</th>\n",
       "      <td>986733</td>\n",
       "      <td>27281505</td>\n",
       "      <td>Isotonic orange flavour soft drink with added ...</td>\n",
       "      <td>Water, Glucose-Fructose Syrup, Citric Acid, Ac...</td>\n",
       "      <td>NoCeleryincludingceleriac:1,Kosher:0,Halal:0,V...</td>\n",
       "      <td>NoCeleryincludingceleriac:1,Kosher:0,Halal:0,V...</td>\n",
       "    </tr>\n",
       "    <tr>\n",
       "      <th>90689</th>\n",
       "      <td>9870747</td>\n",
       "      <td>NaN</td>\n",
       "      <td>NaN</td>\n",
       "      <td>NaN</td>\n",
       "      <td>NaN</td>\n",
       "      <td>NaN</td>\n",
       "    </tr>\n",
       "    <tr>\n",
       "      <th>90690</th>\n",
       "      <td>998058</td>\n",
       "      <td>27422915</td>\n",
       "      <td>Strawberries</td>\n",
       "      <td>NaN</td>\n",
       "      <td>NoCeleryincludingceleriac:1,Kosher:0,Halal:0,V...</td>\n",
       "      <td>NoCeleryincludingceleriac:1,Kosher:0,Halal:0,V...</td>\n",
       "    </tr>\n",
       "    <tr>\n",
       "      <th>90691</th>\n",
       "      <td>9998937</td>\n",
       "      <td>27737835</td>\n",
       "      <td>In-cistern toilet blocks - green</td>\n",
       "      <td>Asda In-Cistern Toilet Blocks contain amongst ...</td>\n",
       "      <td>NaN</td>\n",
       "      <td>NaN</td>\n",
       "    </tr>\n",
       "  </tbody>\n",
       "</table>\n",
       "<p>90692 rows × 6 columns</p>\n",
       "</div>"
      ],
      "text/plain": [
       "              sku_id            EAN  \\\n",
       "0      1000000378880            NaN   \n",
       "1      1000000379087  5012874140930   \n",
       "2      1000000379480  5032543006176   \n",
       "3      1000000379717            NaN   \n",
       "4      1000000379727  8000920400487   \n",
       "...              ...            ...   \n",
       "90687         985450       27281550   \n",
       "90688         986733       27281505   \n",
       "90689        9870747            NaN   \n",
       "90690         998058       27422915   \n",
       "90691        9998937       27737835   \n",
       "\n",
       "                                      regulated_prd_name  \\\n",
       "0                                                    NaN   \n",
       "1                 Full Colour Lip Liner 063 Eastend Snob   \n",
       "2                                                    NaN   \n",
       "3           Vanilla ice cream and white chocolate (26%).   \n",
       "4      Pineapple ice cream with strawberry and lemon ...   \n",
       "...                                                  ...   \n",
       "90687  Carbonated apple and mango flavour water drink...   \n",
       "90688  Isotonic orange flavour soft drink with added ...   \n",
       "90689                                                NaN   \n",
       "90690                                       Strawberries   \n",
       "90691                   In-cistern toilet blocks - green   \n",
       "\n",
       "                                             ingrediants  \\\n",
       "0                                                    NaN   \n",
       "1                                                    NaN   \n",
       "2                                                    NaN   \n",
       "3      Reconstituted Skimmed Milk, Sugar, Cocoa Butte...   \n",
       "4      Water, Sugar, Reconstituted Skimmed Milk, Gluc...   \n",
       "...                                                  ...   \n",
       "90687  Carbonated Water, Citric Acid, Malic Acid, Fla...   \n",
       "90688  Water, Glucose-Fructose Syrup, Citric Acid, Ac...   \n",
       "90689                                                NaN   \n",
       "90690                                                NaN   \n",
       "90691  Asda In-Cistern Toilet Blocks contain amongst ...   \n",
       "\n",
       "                                       nutritional_value  \\\n",
       "0                                                    NaN   \n",
       "1                                                    NaN   \n",
       "2                                                    NaN   \n",
       "3                                                    NaN   \n",
       "4      Halal:0,Vegetarian:1,Vegan:0,NoSoya:1,NoShellf...   \n",
       "...                                                  ...   \n",
       "90687                                                NaN   \n",
       "90688  NoCeleryincludingceleriac:1,Kosher:0,Halal:0,V...   \n",
       "90689                                                NaN   \n",
       "90690  NoCeleryincludingceleriac:1,Kosher:0,Halal:0,V...   \n",
       "90691                                                NaN   \n",
       "\n",
       "                                        nutritional_info  \n",
       "0                                                    NaN  \n",
       "1                                                    NaN  \n",
       "2                                                    NaN  \n",
       "3                                                    NaN  \n",
       "4      Halal:0,Vegetarian:1,Vegan:0,NoSoya:1,NoShellf...  \n",
       "...                                                  ...  \n",
       "90687                                                NaN  \n",
       "90688  NoCeleryincludingceleriac:1,Kosher:0,Halal:0,V...  \n",
       "90689                                                NaN  \n",
       "90690  NoCeleryincludingceleriac:1,Kosher:0,Halal:0,V...  \n",
       "90691                                                NaN  \n",
       "\n",
       "[90692 rows x 6 columns]"
      ]
     },
     "execution_count": 13,
     "metadata": {},
     "output_type": "execute_result"
    }
   ],
   "source": [
    "import pandas as pd\n",
    "LOCAL_PATH = '/data/knowledge_graph/databank.csv'\n",
    "dataset2 = pd.read_csv(LOCAL_PATH) \n",
    "#dataset1['ITEM2_DESC'].fillna('',inplace = True)\n",
    "#dataset1['ITEM1_DESC'] = dataset1['ITEM1_DESC']+ \" \" + dataset1['ITEM2_DESC']\n",
    "dataset2"
   ]
  },
  {
   "cell_type": "code",
   "execution_count": 14,
   "id": "71b79f10-0425-4c50-a558-01406d3afa85",
   "metadata": {},
   "outputs": [],
   "source": [
    "dataset2.fillna('',inplace=True)"
   ]
  },
  {
   "cell_type": "code",
   "execution_count": 15,
   "id": "fe8e31c7-3776-44f7-9e97-c1a01cbd0099",
   "metadata": {},
   "outputs": [
    {
     "name": "stdout",
     "output_type": "stream",
     "text": [
      "Halal:0,Vegetarian:1,Vegan:0,NoSoya:1,NoShellfish:1,NoSesame:1,NoPeanuts:1,NoNuts:1,NoMustard:1,NoMilk:0,NoLupin:1,NoLactose:0,NoGluten:1,NoFish:1,NoEgg:1,NoCeleryincludingceleriac:1,Kosher:0\n",
      "<class 'str'>\n",
      "NO\n"
     ]
    }
   ],
   "source": [
    "temp1 = dataset2.nutritional_value[4]\n",
    "print(dataset2.nutritional_value[4])\n",
    "print(type(dataset2.nutritional_value[4]))\n",
    "temp2 = temp1[:7]\n",
    "if(temp2[-1] == '0'):\n",
    "    print(\"NO\")\n",
    "else:\n",
    "    print(\"Yes\")"
   ]
  },
  {
   "cell_type": "code",
   "execution_count": 16,
   "id": "b96e74f2-a4b7-4378-a0a6-dd2ea749e63b",
   "metadata": {},
   "outputs": [],
   "source": [
    "subject = []\n",
    "relation = []\n",
    "objectlist = []\n",
    "for i in range(len(dataset2)):\n",
    "    temp = dataset2.sku_id[i]\n",
    "    if temp in hashmap:\n",
    "        index = hashmap[temp][1]\n",
    "        subject.append(str(dataset1.CONSUMER_ITEM_NBR[index]))\n",
    "        relation.append(\"belongs to\")\n",
    "        objectlist.append(str(dataset1.DEPT_NBR[index]))\n",
    "        subject.append(str(dataset1.CONSUMER_ITEM_NBR[index]))\n",
    "        relation.append(\"has embedding\")\n",
    "        objectlist.append(str(dataset1.vec[index]))\n",
    "        subject.append(str(dataset1.CONSUMER_ITEM_NBR[index]))\n",
    "        relation.append(\"has name\")\n",
    "        objectlist.append(str(dataset2.regulated_prd_name[i]))\n",
    "        subject.append(str(dataset1.CONSUMER_ITEM_NBR[index]))\n",
    "        relation.append(\"has description\")\n",
    "        objectlist.append(str(dataset1.ITEM1_DESC[index]))\n",
    "        \n",
    "        if(dataset2.ingrediants[i] != ''):\n",
    "            subject.append(str(dataset1.CONSUMER_ITEM_NBR[index]))\n",
    "            relation.append(\"contains\")\n",
    "            objectlist.append(str(dataset2.ingrediants[i]))\n",
    "        if(dataset2.nutritional_info[i] != ''):   \n",
    "            subject.append(str(dataset1.CONSUMER_ITEM_NBR[index]))\n",
    "            relation.append(\"HALALA\")\n",
    "            temp1 = dataset2.nutritional_info[i]\n",
    "            if(temp1 != ''):\n",
    "                temp2 = temp1[:7]\n",
    "                if(temp2[-1] == '0'):\n",
    "                    objectlist.append(\"NO\")\n",
    "                else:\n",
    "                    objectlist.append(\"Yes\")\n",
    "            else:\n",
    "                objectlist.append(\"NOT KNOWN\")\n",
    "            \n",
    "        \n"
   ]
  },
  {
   "cell_type": "code",
   "execution_count": 18,
   "id": "cf0dbfed-9997-4edc-b5ab-0f97862e5393",
   "metadata": {},
   "outputs": [],
   "source": [
    "dict2 = {}\n",
    "for i in range(len(dataset2)):\n",
    "    temp = (dataset2.sku_id[i])\n",
    "    if temp in hashmap:\n",
    "        index = hashmap[temp][1]\n",
    "        temp1 = (dataset1.CONSUMER_ITEM_NBR[index])\n",
    "        dict2[temp1] = []\n",
    "        dict2[temp1].append((str(dataset1.DEPT_NBR[index])))\n",
    "        dict2[temp1].append(str(dataset2.regulated_prd_name[i]))\n",
    "        dict2[temp1].append(str(dataset1.vec[index]))\n",
    "        dict2[temp1].append(str(dataset1.ITEM1_DESC[index]))\n",
    "        if(dataset2.ingrediants[i] != ''):\n",
    "            dict2[temp1].append(str(dataset2.ingrediants[i]))\n",
    "        if(dataset2.nutritional_info[i] != ''):  \n",
    "            temp2 = dataset2.nutritional_info[i]\n",
    "            if(temp2 != ''):\n",
    "                temp3 = temp2[:7]\n",
    "                if(temp3[-1] == '0'):\n",
    "                    dict2[temp1].append(\"NO\")\n",
    "                else:\n",
    "                    dict2[temp1].append(\"Yes\")\n",
    "            else:\n",
    "                dict2[temp1].append(\"NOT KNOWN\")\n",
    "        else:\n",
    "            dict2[temp1].append(\"Nothing\")"
   ]
  },
  {
   "cell_type": "code",
   "execution_count": 19,
   "id": "7e06317d-e76f-44d2-ac18-1d9ead728ea6",
   "metadata": {},
   "outputs": [
    {
     "name": "stdout",
     "output_type": "stream",
     "text": [
      "252157\n"
     ]
    }
   ],
   "source": [
    "print(len(subject))"
   ]
  },
  {
   "cell_type": "code",
   "execution_count": 20,
   "id": "d8a357e6-45b0-4d65-b50f-01a9abb18ce8",
   "metadata": {},
   "outputs": [
    {
     "name": "stdout",
     "output_type": "stream",
     "text": [
      "has description\n",
      "15\n"
     ]
    },
    {
     "data": {
      "text/html": [
       "<div>\n",
       "<style scoped>\n",
       "    .dataframe tbody tr th:only-of-type {\n",
       "        vertical-align: middle;\n",
       "    }\n",
       "\n",
       "    .dataframe tbody tr th {\n",
       "        vertical-align: top;\n",
       "    }\n",
       "\n",
       "    .dataframe thead th {\n",
       "        text-align: right;\n",
       "    }\n",
       "</style>\n",
       "<table border=\"1\" class=\"dataframe\">\n",
       "  <thead>\n",
       "    <tr style=\"text-align: right;\">\n",
       "      <th></th>\n",
       "      <th>subject</th>\n",
       "      <th>relation</th>\n",
       "      <th>object</th>\n",
       "    </tr>\n",
       "  </thead>\n",
       "  <tbody>\n",
       "    <tr>\n",
       "      <th>0</th>\n",
       "      <td>1007622</td>\n",
       "      <td>belongs to</td>\n",
       "      <td>14</td>\n",
       "    </tr>\n",
       "    <tr>\n",
       "      <th>1</th>\n",
       "      <td>1007622</td>\n",
       "      <td>has embedding</td>\n",
       "      <td>[ 0.83298254  0.47355726  0.2743515  -0.245895...</td>\n",
       "    </tr>\n",
       "    <tr>\n",
       "      <th>2</th>\n",
       "      <td>1007622</td>\n",
       "      <td>has name</td>\n",
       "      <td></td>\n",
       "    </tr>\n",
       "    <tr>\n",
       "      <th>3</th>\n",
       "      <td>1007622</td>\n",
       "      <td>has description</td>\n",
       "      <td>minky ironing board</td>\n",
       "    </tr>\n",
       "    <tr>\n",
       "      <th>4</th>\n",
       "      <td>1031128</td>\n",
       "      <td>belongs to</td>\n",
       "      <td>46</td>\n",
       "    </tr>\n",
       "    <tr>\n",
       "      <th>...</th>\n",
       "      <td>...</td>\n",
       "      <td>...</td>\n",
       "      <td>...</td>\n",
       "    </tr>\n",
       "    <tr>\n",
       "      <th>252152</th>\n",
       "      <td>1716118</td>\n",
       "      <td>belongs to</td>\n",
       "      <td>13</td>\n",
       "    </tr>\n",
       "    <tr>\n",
       "      <th>252153</th>\n",
       "      <td>1716118</td>\n",
       "      <td>has embedding</td>\n",
       "      <td>[ 0.5587664   0.06479549  0.22427286 -0.241678...</td>\n",
       "    </tr>\n",
       "    <tr>\n",
       "      <th>252154</th>\n",
       "      <td>1716118</td>\n",
       "      <td>has name</td>\n",
       "      <td>In-cistern toilet blocks - green</td>\n",
       "    </tr>\n",
       "    <tr>\n",
       "      <th>252155</th>\n",
       "      <td>1716118</td>\n",
       "      <td>has description</td>\n",
       "      <td>in cistern blocks</td>\n",
       "    </tr>\n",
       "    <tr>\n",
       "      <th>252156</th>\n",
       "      <td>1716118</td>\n",
       "      <td>contains</td>\n",
       "      <td>Asda In-Cistern Toilet Blocks contain amongst ...</td>\n",
       "    </tr>\n",
       "  </tbody>\n",
       "</table>\n",
       "<p>252157 rows × 3 columns</p>\n",
       "</div>"
      ],
      "text/plain": [
       "        subject         relation  \\\n",
       "0       1007622       belongs to   \n",
       "1       1007622    has embedding   \n",
       "2       1007622         has name   \n",
       "3       1007622  has description   \n",
       "4       1031128       belongs to   \n",
       "...         ...              ...   \n",
       "252152  1716118       belongs to   \n",
       "252153  1716118    has embedding   \n",
       "252154  1716118         has name   \n",
       "252155  1716118  has description   \n",
       "252156  1716118         contains   \n",
       "\n",
       "                                                   object  \n",
       "0                                                      14  \n",
       "1       [ 0.83298254  0.47355726  0.2743515  -0.245895...  \n",
       "2                                                          \n",
       "3                                    minky ironing board   \n",
       "4                                                      46  \n",
       "...                                                   ...  \n",
       "252152                                                 13  \n",
       "252153  [ 0.5587664   0.06479549  0.22427286 -0.241678...  \n",
       "252154                   In-cistern toilet blocks - green  \n",
       "252155                                 in cistern blocks   \n",
       "252156  Asda In-Cistern Toilet Blocks contain amongst ...  \n",
       "\n",
       "[252157 rows x 3 columns]"
      ]
     },
     "execution_count": 20,
     "metadata": {},
     "output_type": "execute_result"
    }
   ],
   "source": [
    "import pandas as pd\n",
    "print(relation[3])\n",
    "print(len(relation[3]))\n",
    "dict = {'subject':subject , 'relation': relation, 'object': objectlist}\n",
    "dataset = pd.DataFrame(dict)\n",
    "dataset"
   ]
  },
  {
   "cell_type": "code",
   "execution_count": 21,
   "id": "c1c76018-ff29-4d55-b168-345303dc4bf4",
   "metadata": {},
   "outputs": [],
   "source": [
    "from ctypes import *\n",
    "lib = CDLL(\"/usr/local/cuda-10.0/lib64/libcudnn.so.7\") "
   ]
  },
  {
   "cell_type": "code",
   "execution_count": 22,
   "id": "384ed71a-a205-4825-832e-285bb431a41d",
   "metadata": {},
   "outputs": [],
   "source": [
    "dataset_train = dataset\n",
    "dataset_test = dataset[200000:]"
   ]
  },
  {
   "cell_type": "code",
   "execution_count": 23,
   "id": "ff061af7-f59e-4370-926f-0b44a29a60b3",
   "metadata": {},
   "outputs": [],
   "source": [
    "from pykeen.triples import TriplesFactory\n",
    "from pykeen.pipeline import pipeline"
   ]
  },
  {
   "cell_type": "code",
   "execution_count": 24,
   "id": "19c36af0-5f6b-452f-80d8-7e6a68574a38",
   "metadata": {},
   "outputs": [],
   "source": [
    "training_path = TriplesFactory(triples = dataset_train[[\"subject\", \"relation\", \"object\"]].values, create_inverse_triples=False, entity_to_id=None, relation_to_id=None, compact_id=True)"
   ]
  },
  {
   "cell_type": "code",
   "execution_count": 28,
   "id": "61096667-8fb3-48bc-a2a1-10313f55adde",
   "metadata": {},
   "outputs": [
    {
     "data": {
      "application/vnd.jupyter.widget-view+json": {
       "model_id": "66ed623b90d6483fac84d2914eb22856",
       "version_major": 2,
       "version_minor": 0
      },
      "text/plain": [
       "A Jupyter Widget"
      ]
     },
     "metadata": {},
     "output_type": "display_data"
    },
    {
     "data": {
      "application/vnd.jupyter.widget-view+json": {
       "model_id": "",
       "version_major": 2,
       "version_minor": 0
      },
      "text/plain": [
       "A Jupyter Widget"
      ]
     },
     "metadata": {},
     "output_type": "display_data"
    },
    {
     "data": {
      "application/vnd.jupyter.widget-view+json": {
       "model_id": "",
       "version_major": 2,
       "version_minor": 0
      },
      "text/plain": [
       "A Jupyter Widget"
      ]
     },
     "metadata": {},
     "output_type": "display_data"
    },
    {
     "data": {
      "application/vnd.jupyter.widget-view+json": {
       "model_id": "",
       "version_major": 2,
       "version_minor": 0
      },
      "text/plain": [
       "A Jupyter Widget"
      ]
     },
     "metadata": {},
     "output_type": "display_data"
    },
    {
     "data": {
      "application/vnd.jupyter.widget-view+json": {
       "model_id": "",
       "version_major": 2,
       "version_minor": 0
      },
      "text/plain": [
       "A Jupyter Widget"
      ]
     },
     "metadata": {},
     "output_type": "display_data"
    },
    {
     "data": {
      "application/vnd.jupyter.widget-view+json": {
       "model_id": "",
       "version_major": 2,
       "version_minor": 0
      },
      "text/plain": [
       "A Jupyter Widget"
      ]
     },
     "metadata": {},
     "output_type": "display_data"
    },
    {
     "data": {
      "application/vnd.jupyter.widget-view+json": {
       "model_id": "",
       "version_major": 2,
       "version_minor": 0
      },
      "text/plain": [
       "A Jupyter Widget"
      ]
     },
     "metadata": {},
     "output_type": "display_data"
    },
    {
     "data": {
      "application/vnd.jupyter.widget-view+json": {
       "model_id": "",
       "version_major": 2,
       "version_minor": 0
      },
      "text/plain": [
       "A Jupyter Widget"
      ]
     },
     "metadata": {},
     "output_type": "display_data"
    },
    {
     "data": {
      "application/vnd.jupyter.widget-view+json": {
       "model_id": "",
       "version_major": 2,
       "version_minor": 0
      },
      "text/plain": [
       "A Jupyter Widget"
      ]
     },
     "metadata": {},
     "output_type": "display_data"
    },
    {
     "data": {
      "application/vnd.jupyter.widget-view+json": {
       "model_id": "",
       "version_major": 2,
       "version_minor": 0
      },
      "text/plain": [
       "A Jupyter Widget"
      ]
     },
     "metadata": {},
     "output_type": "display_data"
    },
    {
     "data": {
      "application/vnd.jupyter.widget-view+json": {
       "model_id": "",
       "version_major": 2,
       "version_minor": 0
      },
      "text/plain": [
       "A Jupyter Widget"
      ]
     },
     "metadata": {},
     "output_type": "display_data"
    },
    {
     "data": {
      "application/vnd.jupyter.widget-view+json": {
       "model_id": "",
       "version_major": 2,
       "version_minor": 0
      },
      "text/plain": [
       "A Jupyter Widget"
      ]
     },
     "metadata": {},
     "output_type": "display_data"
    },
    {
     "data": {
      "application/vnd.jupyter.widget-view+json": {
       "model_id": "",
       "version_major": 2,
       "version_minor": 0
      },
      "text/plain": [
       "A Jupyter Widget"
      ]
     },
     "metadata": {},
     "output_type": "display_data"
    },
    {
     "data": {
      "application/vnd.jupyter.widget-view+json": {
       "model_id": "",
       "version_major": 2,
       "version_minor": 0
      },
      "text/plain": [
       "A Jupyter Widget"
      ]
     },
     "metadata": {},
     "output_type": "display_data"
    },
    {
     "data": {
      "application/vnd.jupyter.widget-view+json": {
       "model_id": "",
       "version_major": 2,
       "version_minor": 0
      },
      "text/plain": [
       "A Jupyter Widget"
      ]
     },
     "metadata": {},
     "output_type": "display_data"
    },
    {
     "data": {
      "application/vnd.jupyter.widget-view+json": {
       "model_id": "",
       "version_major": 2,
       "version_minor": 0
      },
      "text/plain": [
       "A Jupyter Widget"
      ]
     },
     "metadata": {},
     "output_type": "display_data"
    },
    {
     "data": {
      "application/vnd.jupyter.widget-view+json": {
       "model_id": "",
       "version_major": 2,
       "version_minor": 0
      },
      "text/plain": [
       "A Jupyter Widget"
      ]
     },
     "metadata": {},
     "output_type": "display_data"
    },
    {
     "data": {
      "application/vnd.jupyter.widget-view+json": {
       "model_id": "",
       "version_major": 2,
       "version_minor": 0
      },
      "text/plain": [
       "A Jupyter Widget"
      ]
     },
     "metadata": {},
     "output_type": "display_data"
    },
    {
     "data": {
      "application/vnd.jupyter.widget-view+json": {
       "model_id": "",
       "version_major": 2,
       "version_minor": 0
      },
      "text/plain": [
       "A Jupyter Widget"
      ]
     },
     "metadata": {},
     "output_type": "display_data"
    },
    {
     "data": {
      "application/vnd.jupyter.widget-view+json": {
       "model_id": "",
       "version_major": 2,
       "version_minor": 0
      },
      "text/plain": [
       "A Jupyter Widget"
      ]
     },
     "metadata": {},
     "output_type": "display_data"
    },
    {
     "data": {
      "application/vnd.jupyter.widget-view+json": {
       "model_id": "",
       "version_major": 2,
       "version_minor": 0
      },
      "text/plain": [
       "A Jupyter Widget"
      ]
     },
     "metadata": {},
     "output_type": "display_data"
    },
    {
     "data": {
      "application/vnd.jupyter.widget-view+json": {
       "model_id": "",
       "version_major": 2,
       "version_minor": 0
      },
      "text/plain": [
       "A Jupyter Widget"
      ]
     },
     "metadata": {},
     "output_type": "display_data"
    },
    {
     "data": {
      "application/vnd.jupyter.widget-view+json": {
       "model_id": "",
       "version_major": 2,
       "version_minor": 0
      },
      "text/plain": [
       "A Jupyter Widget"
      ]
     },
     "metadata": {},
     "output_type": "display_data"
    },
    {
     "data": {
      "application/vnd.jupyter.widget-view+json": {
       "model_id": "",
       "version_major": 2,
       "version_minor": 0
      },
      "text/plain": [
       "A Jupyter Widget"
      ]
     },
     "metadata": {},
     "output_type": "display_data"
    },
    {
     "data": {
      "application/vnd.jupyter.widget-view+json": {
       "model_id": "",
       "version_major": 2,
       "version_minor": 0
      },
      "text/plain": [
       "A Jupyter Widget"
      ]
     },
     "metadata": {},
     "output_type": "display_data"
    },
    {
     "data": {
      "application/vnd.jupyter.widget-view+json": {
       "model_id": "",
       "version_major": 2,
       "version_minor": 0
      },
      "text/plain": [
       "A Jupyter Widget"
      ]
     },
     "metadata": {},
     "output_type": "display_data"
    },
    {
     "data": {
      "application/vnd.jupyter.widget-view+json": {
       "model_id": "",
       "version_major": 2,
       "version_minor": 0
      },
      "text/plain": [
       "A Jupyter Widget"
      ]
     },
     "metadata": {},
     "output_type": "display_data"
    },
    {
     "data": {
      "application/vnd.jupyter.widget-view+json": {
       "model_id": "",
       "version_major": 2,
       "version_minor": 0
      },
      "text/plain": [
       "A Jupyter Widget"
      ]
     },
     "metadata": {},
     "output_type": "display_data"
    },
    {
     "data": {
      "application/vnd.jupyter.widget-view+json": {
       "model_id": "",
       "version_major": 2,
       "version_minor": 0
      },
      "text/plain": [
       "A Jupyter Widget"
      ]
     },
     "metadata": {},
     "output_type": "display_data"
    },
    {
     "data": {
      "application/vnd.jupyter.widget-view+json": {
       "model_id": "",
       "version_major": 2,
       "version_minor": 0
      },
      "text/plain": [
       "A Jupyter Widget"
      ]
     },
     "metadata": {},
     "output_type": "display_data"
    },
    {
     "data": {
      "application/vnd.jupyter.widget-view+json": {
       "model_id": "",
       "version_major": 2,
       "version_minor": 0
      },
      "text/plain": [
       "A Jupyter Widget"
      ]
     },
     "metadata": {},
     "output_type": "display_data"
    },
    {
     "data": {
      "application/vnd.jupyter.widget-view+json": {
       "model_id": "",
       "version_major": 2,
       "version_minor": 0
      },
      "text/plain": [
       "A Jupyter Widget"
      ]
     },
     "metadata": {},
     "output_type": "display_data"
    },
    {
     "data": {
      "application/vnd.jupyter.widget-view+json": {
       "model_id": "",
       "version_major": 2,
       "version_minor": 0
      },
      "text/plain": [
       "A Jupyter Widget"
      ]
     },
     "metadata": {},
     "output_type": "display_data"
    },
    {
     "data": {
      "application/vnd.jupyter.widget-view+json": {
       "model_id": "",
       "version_major": 2,
       "version_minor": 0
      },
      "text/plain": [
       "A Jupyter Widget"
      ]
     },
     "metadata": {},
     "output_type": "display_data"
    },
    {
     "data": {
      "application/vnd.jupyter.widget-view+json": {
       "model_id": "",
       "version_major": 2,
       "version_minor": 0
      },
      "text/plain": [
       "A Jupyter Widget"
      ]
     },
     "metadata": {},
     "output_type": "display_data"
    },
    {
     "data": {
      "application/vnd.jupyter.widget-view+json": {
       "model_id": "",
       "version_major": 2,
       "version_minor": 0
      },
      "text/plain": [
       "A Jupyter Widget"
      ]
     },
     "metadata": {},
     "output_type": "display_data"
    },
    {
     "data": {
      "application/vnd.jupyter.widget-view+json": {
       "model_id": "",
       "version_major": 2,
       "version_minor": 0
      },
      "text/plain": [
       "A Jupyter Widget"
      ]
     },
     "metadata": {},
     "output_type": "display_data"
    },
    {
     "data": {
      "application/vnd.jupyter.widget-view+json": {
       "model_id": "",
       "version_major": 2,
       "version_minor": 0
      },
      "text/plain": [
       "A Jupyter Widget"
      ]
     },
     "metadata": {},
     "output_type": "display_data"
    },
    {
     "data": {
      "application/vnd.jupyter.widget-view+json": {
       "model_id": "",
       "version_major": 2,
       "version_minor": 0
      },
      "text/plain": [
       "A Jupyter Widget"
      ]
     },
     "metadata": {},
     "output_type": "display_data"
    },
    {
     "data": {
      "application/vnd.jupyter.widget-view+json": {
       "model_id": "",
       "version_major": 2,
       "version_minor": 0
      },
      "text/plain": [
       "A Jupyter Widget"
      ]
     },
     "metadata": {},
     "output_type": "display_data"
    },
    {
     "data": {
      "application/vnd.jupyter.widget-view+json": {
       "model_id": "",
       "version_major": 2,
       "version_minor": 0
      },
      "text/plain": [
       "A Jupyter Widget"
      ]
     },
     "metadata": {},
     "output_type": "display_data"
    },
    {
     "data": {
      "text/plain": [
       "[0.00705595381368454,\n",
       " 0.004258527631004781,\n",
       " 0.002508439855135197,\n",
       " 0.0016269880411932268,\n",
       " 0.001198427268553174,\n",
       " 0.000943520747372549,\n",
       " 0.0007818188119942647,\n",
       " 0.0006845500257481821,\n",
       " 0.0005969079022657252,\n",
       " 0.0005414683314445598,\n",
       " 0.0004935407263906659,\n",
       " 0.0004509227676549966,\n",
       " 0.0004194646014265053,\n",
       " 0.00039091515249124834,\n",
       " 0.0003725755680452541,\n",
       " 0.00034959268745304124,\n",
       " 0.0003300251393614747,\n",
       " 0.00031416763367597044,\n",
       " 0.0003001200368737948,\n",
       " 0.0002870434072809698,\n",
       " 0.00027457851527973895,\n",
       " 0.00026347316595041315,\n",
       " 0.00026121200122445004,\n",
       " 0.00024418142578338153,\n",
       " 0.00024224536288117965,\n",
       " 0.0002355313907883395,\n",
       " 0.0002258112812500859,\n",
       " 0.00022281905889936945,\n",
       " 0.00021671018363755018,\n",
       " 0.00021273552121102194,\n",
       " 0.0002019455110380929,\n",
       " 0.00020139104837948999,\n",
       " 0.00019827054465155293,\n",
       " 0.00019108653218790947,\n",
       " 0.00019036388466930903,\n",
       " 0.0001835817503582228,\n",
       " 0.00017716365751604688,\n",
       " 0.00017674716017116823,\n",
       " 0.0001759389870597778,\n",
       " 0.00017328286085348873]"
      ]
     },
     "execution_count": 28,
     "metadata": {},
     "output_type": "execute_result"
    }
   ],
   "source": [
    "training_triples_factory = training_path\n",
    "from pykeen.models import TransE\n",
    "model = TransE(triples_factory=training_triples_factory,random_seed = 45)\n",
    "from torch.optim import Adam\n",
    "optimizer = Adam(params=model.get_grad_params())\n",
    "from pykeen.training import SLCWATrainingLoop\n",
    "training_loop = SLCWATrainingLoop(model=model, optimizer=optimizer)\n",
    "training_loop.train(num_epochs=40, batch_size=128)\n",
    "#from pykeen.evaluation import RankBasedEvaluator\n",
    "#evaluator = RankBasedEvaluator(model.loss)\n",
    "#mapped_triples = test_path\n",
    "#results = evaluator.evaluate(mapped_triples, batch_size=1024)\n",
    "#print(results)"
   ]
  },
  {
   "cell_type": "code",
   "execution_count": 29,
   "id": "706420f9-8f8c-4bbe-8e31-d4bd1cf17c48",
   "metadata": {},
   "outputs": [],
   "source": [
    "predicted_relations_df = model.predict_heads('belongs to', '46')"
   ]
  },
  {
   "cell_type": "code",
   "execution_count": 30,
   "id": "ecc52439-05ad-4be0-863c-8863600f6d67",
   "metadata": {},
   "outputs": [],
   "source": [
    "predicted_relations_df = predicted_relations_df[[\"head_label\",\"score\"]]"
   ]
  },
  {
   "cell_type": "code",
   "execution_count": 31,
   "id": "e3280346-a0de-4e71-a7b7-8eed35aaaa06",
   "metadata": {},
   "outputs": [
    {
     "data": {
      "text/html": [
       "<div>\n",
       "<style scoped>\n",
       "    .dataframe tbody tr th:only-of-type {\n",
       "        vertical-align: middle;\n",
       "    }\n",
       "\n",
       "    .dataframe tbody tr th {\n",
       "        vertical-align: top;\n",
       "    }\n",
       "\n",
       "    .dataframe thead th {\n",
       "        text-align: right;\n",
       "    }\n",
       "</style>\n",
       "<table border=\"1\" class=\"dataframe\">\n",
       "  <thead>\n",
       "    <tr style=\"text-align: right;\">\n",
       "      <th></th>\n",
       "      <th>head_label</th>\n",
       "      <th>score</th>\n",
       "    </tr>\n",
       "  </thead>\n",
       "  <tbody>\n",
       "    <tr>\n",
       "      <th>32716</th>\n",
       "      <td>5539244</td>\n",
       "      <td>-3.257263</td>\n",
       "    </tr>\n",
       "    <tr>\n",
       "      <th>27819</th>\n",
       "      <td>5272714</td>\n",
       "      <td>-3.894909</td>\n",
       "    </tr>\n",
       "    <tr>\n",
       "      <th>24870</th>\n",
       "      <td>5079308</td>\n",
       "      <td>-3.919251</td>\n",
       "    </tr>\n",
       "    <tr>\n",
       "      <th>1449</th>\n",
       "      <td>1466504</td>\n",
       "      <td>-4.003258</td>\n",
       "    </tr>\n",
       "    <tr>\n",
       "      <th>15126</th>\n",
       "      <td>4192833</td>\n",
       "      <td>-4.027147</td>\n",
       "    </tr>\n",
       "    <tr>\n",
       "      <th>...</th>\n",
       "      <td>...</td>\n",
       "      <td>...</td>\n",
       "    </tr>\n",
       "    <tr>\n",
       "      <th>46282</th>\n",
       "      <td>6007143</td>\n",
       "      <td>-4.672432</td>\n",
       "    </tr>\n",
       "    <tr>\n",
       "      <th>29592</th>\n",
       "      <td>5388644</td>\n",
       "      <td>-4.676896</td>\n",
       "    </tr>\n",
       "    <tr>\n",
       "      <th>8957</th>\n",
       "      <td>3399660</td>\n",
       "      <td>-4.678311</td>\n",
       "    </tr>\n",
       "    <tr>\n",
       "      <th>42757</th>\n",
       "      <td>5891747</td>\n",
       "      <td>-4.680468</td>\n",
       "    </tr>\n",
       "    <tr>\n",
       "      <th>47200</th>\n",
       "      <td>6029510</td>\n",
       "      <td>-4.680521</td>\n",
       "    </tr>\n",
       "  </tbody>\n",
       "</table>\n",
       "<p>100 rows × 2 columns</p>\n",
       "</div>"
      ],
      "text/plain": [
       "      head_label     score\n",
       "32716    5539244 -3.257263\n",
       "27819    5272714 -3.894909\n",
       "24870    5079308 -3.919251\n",
       "1449     1466504 -4.003258\n",
       "15126    4192833 -4.027147\n",
       "...          ...       ...\n",
       "46282    6007143 -4.672432\n",
       "29592    5388644 -4.676896\n",
       "8957     3399660 -4.678311\n",
       "42757    5891747 -4.680468\n",
       "47200    6029510 -4.680521\n",
       "\n",
       "[100 rows x 2 columns]"
      ]
     },
     "execution_count": 31,
     "metadata": {},
     "output_type": "execute_result"
    }
   ],
   "source": [
    "predicted_relations_df[0:100]"
   ]
  },
  {
   "cell_type": "code",
   "execution_count": 32,
   "id": "21e70396-c2ef-48b7-95dd-d6d3aa977f51",
   "metadata": {},
   "outputs": [
    {
     "name": "stdout",
     "output_type": "stream",
     "text": [
      "['46', '', '[-3.46932530e-01  3.02801549e-01  2.41377428e-02 -6.47825226e-02\\n  3.51943761e-01  5.08317888e-01 -2.46110171e-01 -1.07685220e+00\\n -3.71998101e-02  7.31642008e-01 -1.96605280e-01 -6.61712170e-01\\n -5.67705557e-02 -9.38958645e-01 -6.09146357e-01  1.69647121e+00\\n  6.82367682e-02 -9.03837264e-01 -1.64579898e-01 -6.62852526e-01\\n  2.02796102e-01  5.40587425e-01  3.94524634e-01  3.69837582e-02\\n -1.86453879e-01 -1.04967564e-01 -1.07688934e-01 -5.03956854e-01\\n -2.48326868e-01  4.11425769e-01 -4.69785213e-01 -1.85185373e-01\\n  1.28556579e-01 -5.52188754e-01 -5.31232357e-02  4.59462225e-01\\n  1.60447821e-01  2.49022439e-01 -1.31987900e-01  7.30649769e-01\\n  4.30218220e-01 -2.88820505e-01 -1.08007371e-01  1.21343386e+00\\n -5.38685679e-01 -7.33433843e-01  1.25460351e+00  3.00801545e-03\\n  7.32761800e-01  3.77454758e-01  1.74896628e-01  4.31318372e-01\\n  3.44626606e-04 -2.44276673e-01 -1.83279529e-01 -1.17045093e+00\\n -9.93566215e-02  2.69945949e-01  3.80985498e-01 -8.74980912e-02\\n -3.70308995e-01 -6.10297561e-01  3.14947516e-02  3.51816833e-01\\n  9.97842610e-01  3.22777778e-01 -3.13776940e-01 -7.36900687e-01\\n  4.21890080e-01 -2.33355105e-01  1.94197536e-01 -2.39079893e-01\\n -2.69771248e-01 -5.36187291e-01  1.64049864e-02 -3.43032300e-01\\n -1.71483159e-02  3.66478324e-01  4.15827364e-01 -3.62755954e-01\\n -5.61291516e-01  4.93319258e-02  7.50050187e-01  1.23877004e-01\\n -2.85438955e-01 -5.01623750e-01 -2.93509841e-01 -1.10043240e+00\\n -6.57758594e-01 -4.31016460e-02 -3.24152768e-01  1.64119586e-01\\n  9.29138541e-01 -1.02613591e-01 -3.12201500e-01 -9.29696500e-01]', 'glow elastic ', 'Nothing']\n"
     ]
    }
   ],
   "source": [
    "print(dict2[5539244])"
   ]
  },
  {
   "cell_type": "code",
   "execution_count": 33,
   "id": "0d33d864-9542-41ff-bf55-aeb2a2d559ed",
   "metadata": {},
   "outputs": [
    {
     "name": "stdout",
     "output_type": "stream",
     "text": [
      "['46', 'Color Riche Shine Lipstick 352 #Beautyguru', '[-1.5082285e-03  7.9884088e-01  6.5244991e-01 -1.7535405e-01\\n  5.6452000e-01  2.9856575e-01 -8.9814878e-01 -4.8735622e-01\\n -8.0136903e-02 -2.9967144e-01 -1.8219718e-01 -1.4583194e-01\\n  1.5020016e-01 -6.4210385e-01 -9.6692395e-01  1.9309295e+00\\n  2.1378410e-01 -8.5817200e-01 -2.8747183e-01 -4.7392398e-01\\n -6.3418768e-02  1.5432641e-01 -8.4392035e-01  6.6197872e-02\\n -8.2269943e-01 -4.1011548e-01 -5.1846769e-02 -3.8066790e-01\\n  3.7454501e-01  4.9633044e-01 -1.0265515e+00 -3.5115820e-01\\n  7.0996493e-01 -1.1604416e-01 -3.7901473e-01  5.8167839e-01\\n  1.4559977e-01  2.2719592e-01  6.6549540e-02  1.6843836e+00\\n  1.4030835e-01 -8.7138551e-01 -5.6565082e-01  7.4398780e-01\\n -1.1363173e+00 -3.4052014e-02  4.4770434e-01 -4.1597632e-01\\n  1.2047751e+00  3.6977211e-01 -1.6112342e-02  4.2331678e-01\\n -5.0064456e-01  1.4806300e-01  5.8486962e-01 -5.7277763e-01\\n -6.1490107e-01  9.7111978e-02  9.4891801e-02  8.7582862e-01\\n -8.5112816e-01 -3.8138926e-01 -4.5419452e-01  2.5015682e-01\\n -1.7855710e-01 -3.5356337e-01 -2.1661939e-01 -3.4326687e-01\\n  6.2411956e-02  1.2734652e-02  8.3819830e-01 -1.3066891e-01\\n  3.3931461e-01 -5.2560806e-01 -2.4547771e-01 -7.8332573e-03\\n  4.6631098e-03  1.5831539e-01 -7.5305924e-02 -3.4109589e-01\\n  1.2055709e-01  1.7879587e-01  1.1739080e+00 -8.4811248e-02\\n  2.2876078e-01  4.4040191e-01 -1.5497997e-01 -1.1010387e+00\\n -4.3512866e-01 -3.6350355e-01 -5.0465906e-01  4.1721004e-01\\n  7.5763661e-01 -2.7543151e-01 -4.2015296e-01 -5.0115013e-01]', 'loreal lipstick ', 'G902724, Trimethyl Pentaphenyl Trisiloxane, Hydrogenated Polyisobutene, Diphenylsiloxy Phenyl Trimethicone, Pentaerythrityl Tetraisostearate, Dipentaerythrityl Tetrahydroxystearate/ Tetraisostearate, Bis-Behenyl/Isostearyl/Phytosteryl Dimer Dilinoleyl Dimer Dilinoleate, Polyethylene, Isohexadecane, Synthetic Fluorphlogopite, Ozokerite, Calcium Sodium Borosilicate, HDI/Trimethylol Hexyllactone Crosspolymer, Alumina, Silica, Calcium Aluminum Borosilicate, Magnesium Silicate, Tin Oxide, Aluminum Hydroxide, Colophonium / Rosin, Linalool, Tocopherol, Citronellol, Benzyl Alcohol, Limonene, Geraniol, Parfum / Fragrance, [+/- May contain: CI 77891 / Titanium Dioxide, CI 45410 / Red 28 Lake, Mica, CI 45380 / Red 22 Lake, CI 77491, CI 77492, CI 77499 / Iron Oxides, CI 15850 / Red 7, CI 17200 / Red 33 Lake, CI 15985 / Yellow 6 Lake, CI 77000 / Aluminum Powder, CI 77742 / Manganese Violet, CI 15850 / Red 6, CI 42090 / Blue 1 Lake, CI 19140 / Yellow 5 Lake, CI 15850 / Red 7 Lake, CI 77120 / Barium Sulfate, CI 77820 / Silver, CI 75470 / Carmine], (F.I.L. B205792/1)', 'Nothing']\n"
     ]
    }
   ],
   "source": [
    "print(dict2[6029510])"
   ]
  },
  {
   "cell_type": "code",
   "execution_count": 34,
   "id": "26b08c22-b29b-47d2-a3df-4cdc59db003d",
   "metadata": {},
   "outputs": [],
   "source": [
    "predicted_relations_df = model.predict_heads('HALALA', 'Yes')"
   ]
  },
  {
   "cell_type": "code",
   "execution_count": 35,
   "id": "79955116-d21d-4a7f-999e-dcea4eb7801b",
   "metadata": {},
   "outputs": [
    {
     "data": {
      "text/html": [
       "<div>\n",
       "<style scoped>\n",
       "    .dataframe tbody tr th:only-of-type {\n",
       "        vertical-align: middle;\n",
       "    }\n",
       "\n",
       "    .dataframe tbody tr th {\n",
       "        vertical-align: top;\n",
       "    }\n",
       "\n",
       "    .dataframe thead th {\n",
       "        text-align: right;\n",
       "    }\n",
       "</style>\n",
       "<table border=\"1\" class=\"dataframe\">\n",
       "  <thead>\n",
       "    <tr style=\"text-align: right;\">\n",
       "      <th></th>\n",
       "      <th>head_id</th>\n",
       "      <th>head_label</th>\n",
       "      <th>score</th>\n",
       "      <th>in_training</th>\n",
       "    </tr>\n",
       "  </thead>\n",
       "  <tbody>\n",
       "    <tr>\n",
       "      <th>13722</th>\n",
       "      <td>13722</td>\n",
       "      <td>4000822</td>\n",
       "      <td>-5.271224</td>\n",
       "      <td>True</td>\n",
       "    </tr>\n",
       "    <tr>\n",
       "      <th>7801</th>\n",
       "      <td>7801</td>\n",
       "      <td>3199677</td>\n",
       "      <td>-5.606114</td>\n",
       "      <td>True</td>\n",
       "    </tr>\n",
       "    <tr>\n",
       "      <th>30565</th>\n",
       "      <td>30565</td>\n",
       "      <td>544336</td>\n",
       "      <td>-5.648476</td>\n",
       "      <td>True</td>\n",
       "    </tr>\n",
       "    <tr>\n",
       "      <th>43989</th>\n",
       "      <td>43989</td>\n",
       "      <td>5922722</td>\n",
       "      <td>-5.680406</td>\n",
       "      <td>True</td>\n",
       "    </tr>\n",
       "    <tr>\n",
       "      <th>7771</th>\n",
       "      <td>7771</td>\n",
       "      <td>3193088</td>\n",
       "      <td>-5.718993</td>\n",
       "      <td>True</td>\n",
       "    </tr>\n",
       "    <tr>\n",
       "      <th>...</th>\n",
       "      <td>...</td>\n",
       "      <td>...</td>\n",
       "      <td>...</td>\n",
       "      <td>...</td>\n",
       "    </tr>\n",
       "    <tr>\n",
       "      <th>53881</th>\n",
       "      <td>53881</td>\n",
       "      <td>923653</td>\n",
       "      <td>-6.404921</td>\n",
       "      <td>True</td>\n",
       "    </tr>\n",
       "    <tr>\n",
       "      <th>22595</th>\n",
       "      <td>22595</td>\n",
       "      <td>4920472</td>\n",
       "      <td>-6.405138</td>\n",
       "      <td>True</td>\n",
       "    </tr>\n",
       "    <tr>\n",
       "      <th>2200</th>\n",
       "      <td>2200</td>\n",
       "      <td>169734</td>\n",
       "      <td>-6.405914</td>\n",
       "      <td>True</td>\n",
       "    </tr>\n",
       "    <tr>\n",
       "      <th>30527</th>\n",
       "      <td>30527</td>\n",
       "      <td>544260</td>\n",
       "      <td>-6.410654</td>\n",
       "      <td>True</td>\n",
       "    </tr>\n",
       "    <tr>\n",
       "      <th>9985</th>\n",
       "      <td>9985</td>\n",
       "      <td>3583314</td>\n",
       "      <td>-6.412736</td>\n",
       "      <td>True</td>\n",
       "    </tr>\n",
       "  </tbody>\n",
       "</table>\n",
       "<p>100 rows × 4 columns</p>\n",
       "</div>"
      ],
      "text/plain": [
       "       head_id head_label     score  in_training\n",
       "13722    13722    4000822 -5.271224         True\n",
       "7801      7801    3199677 -5.606114         True\n",
       "30565    30565     544336 -5.648476         True\n",
       "43989    43989    5922722 -5.680406         True\n",
       "7771      7771    3193088 -5.718993         True\n",
       "...        ...        ...       ...          ...\n",
       "53881    53881     923653 -6.404921         True\n",
       "22595    22595    4920472 -6.405138         True\n",
       "2200      2200     169734 -6.405914         True\n",
       "30527    30527     544260 -6.410654         True\n",
       "9985      9985    3583314 -6.412736         True\n",
       "\n",
       "[100 rows x 4 columns]"
      ]
     },
     "execution_count": 35,
     "metadata": {},
     "output_type": "execute_result"
    }
   ],
   "source": [
    "predicted_relations_df[0:100]"
   ]
  },
  {
   "cell_type": "code",
   "execution_count": 40,
   "id": "5a6d8f9c-ee31-477c-aeb4-33dab5573555",
   "metadata": {},
   "outputs": [
    {
     "name": "stdout",
     "output_type": "stream",
     "text": [
      "['51', 'Breakfast Lorne', '[ 0.53925973  0.6829794   0.48995185  0.2145998  -0.65987706 -0.5452995\\n -0.12434712  0.22190075 -0.04360199  0.2789176  -0.14066677 -0.46401834\\n -0.10701972 -0.18563972 -0.73495054  1.2878686   0.40853453 -0.01234581\\n  0.3872826   0.08203781  0.19129556  0.07615652 -0.51676774 -0.21785657\\n -0.27036628  0.25131306 -0.22715966 -0.32714278  0.10589401  0.16851485\\n -0.54481936 -0.42357215  0.37936231 -0.7175371   0.9522624   0.23328339\\n  0.20165665 -0.32998118  0.48204365  0.4482877   0.0849228  -0.80419064\\n  0.3033586   0.3135842  -0.11305345 -0.75906533  0.488168    0.09508538\\n  0.46666396  0.25906688  0.33100438  0.08106349 -0.09254565  0.12169933\\n  0.20092928  0.268495   -0.08936087  0.0385345   0.05904345 -0.0823278\\n -0.86496454 -0.36723414  0.2463665  -0.46764493  0.2660793  -0.4398755\\n  0.05785425 -0.23229027  0.3045026  -0.7263004  -0.05925068 -0.39198306\\n  0.47914353 -0.16409291 -0.34297678 -0.16382474  0.04054346  0.30975923\\n  0.20583405  0.25178024  0.03200898  0.24831659 -0.23884685  0.08020729\\n  0.00156951 -0.9833708  -0.13346855 -0.91119486 -0.5843486   0.0467791\\n -0.17514336  0.09178773 -0.10187236 -0.33219188 -0.08959501 -0.31065658]', 'ma breakfast lorne ', 'Beef (31%), Pork Trim*(29%), Water, Rusk (Wheat Flour (Gluten), Salt, Raising Agent, (Ammonium Carbonate), Beef Fat, Seasoning (Salt, Spices, Wheat Flour (Gluten) Soya Flour, Flavouring, Stabilisers (E450a), Preservative (E221) (Sulphites), Dextrose, Flavour Enhancer (E621), Antioxidant (E301), Niacin, Colour (E120), Soya, *Pork sourced from UK and EU', 'Yes']\n"
     ]
    }
   ],
   "source": [
    "print(dict2[3583314])"
   ]
  },
  {
   "cell_type": "code",
   "execution_count": 38,
   "id": "1d53d6c5-af0e-4a89-9910-0ca9a784028a",
   "metadata": {},
   "outputs": [
    {
     "name": "stdout",
     "output_type": "stream",
     "text": [
      "['51', 'Premium Steak Sausages', '[ 0.04128313  0.1397588  -0.00283852 -0.15672562 -0.38233453  0.29856738\\n -0.18158428 -0.20289934 -0.44819936  0.20628724  0.09060518  0.53209674\\n  0.14627084 -0.4038736  -0.33652005  1.324997   -0.21133816  0.0493118\\n -0.0845508  -0.57321     0.06238754  0.08386447 -0.04825596  0.11734533\\n -0.24181326 -0.3474701   0.24803047 -0.18949153  0.01602707  0.10797457\\n -0.7343339  -0.4362666   0.03771973  0.08601876 -0.09084134  0.17609546\\n  0.22409478 -0.23261285 -0.030203    1.0657445  -0.3295396  -0.35469177\\n -0.5248257   0.5318324  -0.5370617  -0.69485426  0.27735597 -0.08749574\\n  0.41484565  0.05470257  0.75049055  0.14678079  0.4979147   0.3165905\\n  0.41459417 -0.2435991  -0.43934375 -0.14069149  0.74071926  0.2807978\\n -0.3518228  -0.7506288   0.03046153 -0.43901357  0.03402543 -0.49291414\\n -0.22498982  0.5671783   0.30097097 -0.28706163  0.8866048  -0.22425881\\n  0.07810117 -0.16001509  0.28995705  0.27831593  0.09503619  0.41877666\\n -1.1818697  -0.27531797 -0.2545337   0.01919622  0.44927925  0.29708943\\n  0.06324885 -0.57564795 -0.12915418 -0.6010067  -0.42544913 -0.21426956\\n -0.06026579 -0.10422468  0.48345456 -0.596103   -0.09649389 -0.19504543]', 'sh steak sausages premium scottish', 'Beef (65%), Water, Rusk (Wheat Flour (contains Calcium Carbonate, Iron, Niacin, Thiamine), Salt, Raising Agent (Ammonium Bicarbonate)), Wheat Starch, Salt, Wheat Gluten, Dextrose, Preservative (Sodium Metabisulphite), White Pepper, Emulsifier (Sodium Triphosphate), Natural Flavourings, Colour (Carmine), Antioxidant (Acid: Ascorbic Acid), Sausages filled into edible Bovine Collagen Casings', 'Yes']\n"
     ]
    }
   ],
   "source": [
    "print(dict2[3591376])"
   ]
  },
  {
   "cell_type": "code",
   "execution_count": 41,
   "id": "ec62742f-2644-4c1d-9b85-c5fe71a5abc8",
   "metadata": {},
   "outputs": [],
   "source": [
    "predicted_relations_df = model.predict_heads('HALALA', 'NO')"
   ]
  },
  {
   "cell_type": "code",
   "execution_count": 42,
   "id": "1aebf38f-ce32-4f5f-a288-55fba382da66",
   "metadata": {},
   "outputs": [],
   "source": [
    "predicted_relations_df = predicted_relations_df[[\"head_label\",\"score\"]]"
   ]
  },
  {
   "cell_type": "code",
   "execution_count": 43,
   "id": "13457be0-1fa1-480a-931f-f591f47de139",
   "metadata": {},
   "outputs": [
    {
     "data": {
      "text/html": [
       "<div>\n",
       "<style scoped>\n",
       "    .dataframe tbody tr th:only-of-type {\n",
       "        vertical-align: middle;\n",
       "    }\n",
       "\n",
       "    .dataframe tbody tr th {\n",
       "        vertical-align: top;\n",
       "    }\n",
       "\n",
       "    .dataframe thead th {\n",
       "        text-align: right;\n",
       "    }\n",
       "</style>\n",
       "<table border=\"1\" class=\"dataframe\">\n",
       "  <thead>\n",
       "    <tr style=\"text-align: right;\">\n",
       "      <th></th>\n",
       "      <th>head_label</th>\n",
       "      <th>score</th>\n",
       "    </tr>\n",
       "  </thead>\n",
       "  <tbody>\n",
       "    <tr>\n",
       "      <th>39605</th>\n",
       "      <td>5800817</td>\n",
       "      <td>-5.031690</td>\n",
       "    </tr>\n",
       "    <tr>\n",
       "      <th>7700</th>\n",
       "      <td>3184207</td>\n",
       "      <td>-5.078029</td>\n",
       "    </tr>\n",
       "    <tr>\n",
       "      <th>32169</th>\n",
       "      <td>5515023</td>\n",
       "      <td>-5.135834</td>\n",
       "    </tr>\n",
       "    <tr>\n",
       "      <th>39165</th>\n",
       "      <td>5792920</td>\n",
       "      <td>-5.179356</td>\n",
       "    </tr>\n",
       "    <tr>\n",
       "      <th>40460</th>\n",
       "      <td>5826070</td>\n",
       "      <td>-5.197164</td>\n",
       "    </tr>\n",
       "    <tr>\n",
       "      <th>...</th>\n",
       "      <td>...</td>\n",
       "      <td>...</td>\n",
       "    </tr>\n",
       "    <tr>\n",
       "      <th>49508</th>\n",
       "      <td>6112826</td>\n",
       "      <td>-5.913070</td>\n",
       "    </tr>\n",
       "    <tr>\n",
       "      <th>22023</th>\n",
       "      <td>4866419</td>\n",
       "      <td>-5.913088</td>\n",
       "    </tr>\n",
       "    <tr>\n",
       "      <th>36841</th>\n",
       "      <td>5712536</td>\n",
       "      <td>-5.913748</td>\n",
       "    </tr>\n",
       "    <tr>\n",
       "      <th>6529</th>\n",
       "      <td>2967245</td>\n",
       "      <td>-5.914155</td>\n",
       "    </tr>\n",
       "    <tr>\n",
       "      <th>22730</th>\n",
       "      <td>4938721</td>\n",
       "      <td>-5.914804</td>\n",
       "    </tr>\n",
       "  </tbody>\n",
       "</table>\n",
       "<p>100 rows × 2 columns</p>\n",
       "</div>"
      ],
      "text/plain": [
       "      head_label     score\n",
       "39605    5800817 -5.031690\n",
       "7700     3184207 -5.078029\n",
       "32169    5515023 -5.135834\n",
       "39165    5792920 -5.179356\n",
       "40460    5826070 -5.197164\n",
       "...          ...       ...\n",
       "49508    6112826 -5.913070\n",
       "22023    4866419 -5.913088\n",
       "36841    5712536 -5.913748\n",
       "6529     2967245 -5.914155\n",
       "22730    4938721 -5.914804\n",
       "\n",
       "[100 rows x 2 columns]"
      ]
     },
     "execution_count": 43,
     "metadata": {},
     "output_type": "execute_result"
    }
   ],
   "source": [
    "predicted_relations_df[0:100]"
   ]
  },
  {
   "cell_type": "code",
   "execution_count": 44,
   "id": "886b5e8a-1874-4d37-8082-44e4ca4619d6",
   "metadata": {},
   "outputs": [
    {
     "data": {
      "text/plain": [
       "['44',\n",
       " 'Large Avocado',\n",
       " '[ 1.2227932   0.6243751   0.6160526  -0.11449587  0.12429908 -0.02950792\\n  0.04310788 -0.36110064 -0.6868978  -0.42492244  0.32964236  0.4474926\\n -0.3019985  -0.01979622  0.20570254  0.20053539  0.5062118  -0.27592358\\n -0.11166663 -0.0249418  -0.43866777  0.5791445  -0.14007132  0.2936106\\n -0.6890418  -0.6463626  -0.16708893 -0.23642176  1.0213853   0.29096895\\n -1.1297885  -0.8794481  -0.27869684  0.622778    0.31454074  0.61261356\\n -0.2614041  -0.21575418 -0.18874682  0.15264045 -0.35573083 -0.4613149\\n -0.33421782  0.1458608  -0.23934548  0.43069255  1.3597314   0.02001077\\n  0.68647873  0.04352653  0.3239858   0.59684646  0.20944272  0.11279753\\n  0.9136396  -0.96721965 -0.7397301   0.06865898  0.6879637   0.59630525\\n -0.5308117  -0.04256113 -0.7210263  -0.7192971  -0.55208695  0.22737527\\n -0.03373223  0.34918883 -0.63691247 -0.56634665  1.2874844  -0.03830007\\n -0.42827183 -0.2550572   0.20062196 -0.10464408 -0.0540117  -0.88185114\\n -0.5529058  -0.15905263 -0.12200353  0.11370408  1.2441415  -0.25842392\\n  0.02964178 -0.2770562  -0.08692602 -0.5771742  -0.27426827 -0.6432403\\n -0.90252966  0.34361625  0.4991962   0.04115102 -0.4037411   0.48377264]',\n",
       " 'asda avocado ',\n",
       " 'NO']"
      ]
     },
     "execution_count": 44,
     "metadata": {},
     "output_type": "execute_result"
    }
   ],
   "source": [
    "dict2[5800817]"
   ]
  },
  {
   "cell_type": "code",
   "execution_count": 40,
   "id": "d15a2eea-f972-4671-ac8e-cf31b6a4e76f",
   "metadata": {},
   "outputs": [
    {
     "data": {
      "text/plain": [
       "['58',\n",
       " 'Sesame seeds',\n",
       " '[ 0.92816687  0.43905732  0.17599915  0.08620966  0.34893534  0.05962062\\n -0.34937885 -0.13675222 -0.8339359  -0.4221085   0.4262806   0.48362747\\n -0.6279893  -0.3511033  -0.23223568  0.8316291  -0.05726955 -0.07891238\\n -0.0677653  -0.2668483  -0.44373262 -0.06319666 -0.39725217  0.23218495\\n -0.77641505 -0.34780613 -0.15066862  0.06665855  0.4210155  -0.06358291\\n -1.1743141  -0.48168647  0.07060879  0.58929676  0.12469599  0.2822541\\n -0.02751873 -0.51595956 -0.35431635  0.69783646 -0.4735235  -0.3156661\\n -0.543943    0.36295673  0.610275   -0.10500258  0.33575228 -0.02717394\\n  0.5563692   0.00854776  0.8325607   0.11852591  0.45660245  0.33087942\\n  0.73620766 -0.1943932  -0.39830223  0.2692947   0.7903941   0.61134\\n -0.40144432 -0.7718057  -0.08901706 -0.41829228 -0.7708866  -0.22023027\\n -0.307247    0.22864223 -0.23673606 -0.6834801   0.70037174  0.10843887\\n -0.37678465 -0.30163315 -0.1021411   0.15145123  0.55491    -0.2684882\\n -0.65003806 -0.4844749  -0.17702477  0.03224333  0.6385335   0.05440914\\n -0.44425166 -0.45277643 -0.25428817 -0.4473939   0.01831231 -0.339121\\n -0.5137179   0.3343358   0.33118418  0.02326268 -0.28907064  0.39097056]',\n",
       " 'Sesame Seeds',\n",
       " 'NO']"
      ]
     },
     "execution_count": 40,
     "metadata": {},
     "output_type": "execute_result"
    }
   ],
   "source": [
    "dict2[5057256]"
   ]
  },
  {
   "cell_type": "code",
   "execution_count": 45,
   "id": "a5390b36-54b8-42d5-aea0-206e6af4bf48",
   "metadata": {},
   "outputs": [],
   "source": [
    "predicted_relations_df = model.predict_heads('has name', 'Strawberries')"
   ]
  },
  {
   "cell_type": "code",
   "execution_count": 46,
   "id": "5bb7e7b4-a3e9-42b5-97d1-7c6faea5e01e",
   "metadata": {},
   "outputs": [],
   "source": [
    "predicted_relations_df = predicted_relations_df[[\"head_label\",\"score\"]]"
   ]
  },
  {
   "cell_type": "code",
   "execution_count": 47,
   "id": "cb74bce3-6a74-482e-8970-2c62a2024381",
   "metadata": {},
   "outputs": [
    {
     "data": {
      "text/html": [
       "<div>\n",
       "<style scoped>\n",
       "    .dataframe tbody tr th:only-of-type {\n",
       "        vertical-align: middle;\n",
       "    }\n",
       "\n",
       "    .dataframe tbody tr th {\n",
       "        vertical-align: top;\n",
       "    }\n",
       "\n",
       "    .dataframe thead th {\n",
       "        text-align: right;\n",
       "    }\n",
       "</style>\n",
       "<table border=\"1\" class=\"dataframe\">\n",
       "  <thead>\n",
       "    <tr style=\"text-align: right;\">\n",
       "      <th></th>\n",
       "      <th>head_label</th>\n",
       "      <th>score</th>\n",
       "    </tr>\n",
       "  </thead>\n",
       "  <tbody>\n",
       "    <tr>\n",
       "      <th>38434</th>\n",
       "      <td>5767069</td>\n",
       "      <td>-3.837681</td>\n",
       "    </tr>\n",
       "    <tr>\n",
       "      <th>49710</th>\n",
       "      <td>6117252</td>\n",
       "      <td>-4.918774</td>\n",
       "    </tr>\n",
       "    <tr>\n",
       "      <th>39603</th>\n",
       "      <td>5800811</td>\n",
       "      <td>-4.921257</td>\n",
       "    </tr>\n",
       "    <tr>\n",
       "      <th>14491</th>\n",
       "      <td>4093656</td>\n",
       "      <td>-5.019912</td>\n",
       "    </tr>\n",
       "    <tr>\n",
       "      <th>17151</th>\n",
       "      <td>4431889</td>\n",
       "      <td>-5.155864</td>\n",
       "    </tr>\n",
       "    <tr>\n",
       "      <th>...</th>\n",
       "      <td>...</td>\n",
       "      <td>...</td>\n",
       "    </tr>\n",
       "    <tr>\n",
       "      <th>39463</th>\n",
       "      <td>5796972</td>\n",
       "      <td>-5.704890</td>\n",
       "    </tr>\n",
       "    <tr>\n",
       "      <th>49726</th>\n",
       "      <td>6117350</td>\n",
       "      <td>-5.705627</td>\n",
       "    </tr>\n",
       "    <tr>\n",
       "      <th>10767</th>\n",
       "      <td>3677976</td>\n",
       "      <td>-5.708699</td>\n",
       "    </tr>\n",
       "    <tr>\n",
       "      <th>49730</th>\n",
       "      <td>6117358</td>\n",
       "      <td>-5.712439</td>\n",
       "    </tr>\n",
       "    <tr>\n",
       "      <th>41114</th>\n",
       "      <td>5849606</td>\n",
       "      <td>-5.716780</td>\n",
       "    </tr>\n",
       "  </tbody>\n",
       "</table>\n",
       "<p>100 rows × 2 columns</p>\n",
       "</div>"
      ],
      "text/plain": [
       "      head_label     score\n",
       "38434    5767069 -3.837681\n",
       "49710    6117252 -4.918774\n",
       "39603    5800811 -4.921257\n",
       "14491    4093656 -5.019912\n",
       "17151    4431889 -5.155864\n",
       "...          ...       ...\n",
       "39463    5796972 -5.704890\n",
       "49726    6117350 -5.705627\n",
       "10767    3677976 -5.708699\n",
       "49730    6117358 -5.712439\n",
       "41114    5849606 -5.716780\n",
       "\n",
       "[100 rows x 2 columns]"
      ]
     },
     "execution_count": 47,
     "metadata": {},
     "output_type": "execute_result"
    }
   ],
   "source": [
    "predicted_relations_df[0:100]"
   ]
  },
  {
   "cell_type": "code",
   "execution_count": 48,
   "id": "a7b6cebc-4868-4e2b-9211-b0f609735082",
   "metadata": {},
   "outputs": [
    {
     "data": {
      "text/plain": [
       "['44',\n",
       " 'Strawberries',\n",
       " '[ 1.4178364e+00  4.4449863e-01  1.6245379e-01 -4.9157459e-01\\n  4.6078902e-01  7.6527309e-01  3.5819590e-01 -8.4713981e-02\\n -4.2308912e-01 -3.7759990e-01  1.0974705e-04  6.8457603e-02\\n  1.0139114e-01  1.5673411e-01 -2.8155923e-01  4.3659878e-01\\n  4.6835043e-02 -7.1725965e-01 -4.5355332e-01  1.2558793e-01\\n -6.5039968e-01 -1.1845857e-02 -7.2529054e-01  1.8429132e-01\\n -3.5272348e-01 -8.6590499e-02  3.3494207e-01  4.9175069e-02\\n  8.6882669e-01 -1.2273286e-01 -3.7505049e-01 -9.8512030e-01\\n -6.6902703e-01  3.1609619e-01 -2.3431823e-02  5.1809132e-01\\n -2.2471845e-01  3.1450453e-01 -2.3936813e-01  1.3491677e+00\\n -2.7146140e-01  8.6563677e-03 -4.5401603e-01  5.0742793e-01\\n  3.1605035e-01 -3.9499375e-01  6.9736499e-01 -2.2095814e-02\\n  8.0709732e-01 -1.1470693e-01  7.8610843e-01  5.7105994e-01\\n -5.7142131e-02  2.4997495e-01  1.1679511e+00 -9.0074480e-01\\n -9.2351067e-01 -7.2621107e-02  1.4001185e+00  5.9930491e-01\\n -7.8395033e-01 -6.1492437e-01 -2.6440117e-01 -3.5189211e-01\\n -1.6087724e-01 -6.3267395e-02 -2.8926536e-02  7.1973926e-01\\n -3.6862904e-01 -3.1852800e-01  9.4745898e-01 -3.0267692e-01\\n -4.4323623e-02  2.0175874e-03 -1.4191991e-01 -1.9859129e-01\\n -1.8231589e-01 -1.4825225e-02 -2.0543617e-01 -6.2277615e-01\\n -4.8420775e-01  9.9458285e-02  6.9533670e-01 -2.5497758e-01\\n -5.1805884e-01 -3.8071048e-01 -1.9772373e-01 -6.6752785e-01\\n -3.7900773e-01 -3.9876118e-01 -9.2332929e-01 -9.3607821e-02\\n  4.6443939e-03  1.1499728e-01 -1.1625032e+00  2.2580326e-02]',\n",
       " 'asda strawberry ',\n",
       " 'NO']"
      ]
     },
     "execution_count": 48,
     "metadata": {},
     "output_type": "execute_result"
    }
   ],
   "source": [
    "dict2[5669997]"
   ]
  },
  {
   "cell_type": "code",
   "execution_count": 49,
   "id": "83ef170c-8d25-4aff-a23b-25d1d02ff725",
   "metadata": {},
   "outputs": [
    {
     "data": {
      "text/plain": [
       "['90',\n",
       " 'Frubes Pouches Strawberry & Raspberry Flavour Yogurt',\n",
       " '[ 0.5010184   0.25890636  0.37333918 -0.26898926 -0.1691665  -0.62044525\\n  0.5669912  -0.78280705 -0.4095871  -0.46788836 -0.26462066  0.9636545\\n  0.06434849 -0.13649282  0.5561044   0.9659258  -0.10898803 -0.8363365\\n  0.22589663  0.22602025 -1.1749694   0.23032376 -0.10185981  1.0551951\\n -0.38690463  0.05667581  0.13608532 -0.08132651 -0.0194698  -0.0709666\\n -1.1475255  -0.48212472 -0.5878724   0.6251671   0.02390334  1.2642269\\n -0.54533815 -0.02500296 -0.37492615  0.62713945 -0.7736522  -0.88724655\\n -1.058046    0.36147612  0.72513294 -0.80510986  0.9436748  -0.11806378\\n  0.41662568  0.5571525  -0.14534838 -0.0054668   0.45833427  0.61898077\\n  1.0952556  -0.9086063   0.04444319  0.1312115   1.166292    0.45857704\\n -0.2890745  -0.91122645  0.08144157 -0.80514705 -0.67336655  0.36987102\\n  0.05811371  0.1356606  -0.49191558 -0.6610626   0.95560473 -0.39906773\\n -0.8046821   0.27639952 -0.4043275   0.97953784  1.015796   -0.1459868\\n -0.84010017 -0.7804097   0.10829803  0.3414386   0.15207678  0.13869976\\n -0.14318319 -0.1819171   0.38874784  0.03136596 -0.34788305 -0.31434792\\n -1.1332833   0.75785804 -0.04256494  0.07819781 -0.6467456   0.20640443]',\n",
       " 'frubes pouch ',\n",
       " 'Raspberry: Yogurt (Milk), Sugar 10.3%, Raspberry Juice from Concentrate, Flavourings, Strawberry: Yogurt (Milk), Sugar 10.3%, Strawberry Juice from Concentrate, Flavourings',\n",
       " 'NO']"
      ]
     },
     "execution_count": 49,
     "metadata": {},
     "output_type": "execute_result"
    }
   ],
   "source": [
    "dict2[3906547]"
   ]
  },
  {
   "cell_type": "code",
   "execution_count": 50,
   "id": "bb0a56d2-6f57-469d-902e-160e9966bb6f",
   "metadata": {},
   "outputs": [
    {
     "data": {
      "text/html": [
       "<div>\n",
       "<style scoped>\n",
       "    .dataframe tbody tr th:only-of-type {\n",
       "        vertical-align: middle;\n",
       "    }\n",
       "\n",
       "    .dataframe tbody tr th {\n",
       "        vertical-align: top;\n",
       "    }\n",
       "\n",
       "    .dataframe thead th {\n",
       "        text-align: right;\n",
       "    }\n",
       "</style>\n",
       "<table border=\"1\" class=\"dataframe\">\n",
       "  <thead>\n",
       "    <tr style=\"text-align: right;\">\n",
       "      <th></th>\n",
       "      <th>subject</th>\n",
       "      <th>relation</th>\n",
       "      <th>object</th>\n",
       "    </tr>\n",
       "  </thead>\n",
       "  <tbody>\n",
       "    <tr>\n",
       "      <th>200000</th>\n",
       "      <td>5391338</td>\n",
       "      <td>has name</td>\n",
       "      <td>London Dry Gin</td>\n",
       "    </tr>\n",
       "    <tr>\n",
       "      <th>200001</th>\n",
       "      <td>5391338</td>\n",
       "      <td>has description</td>\n",
       "      <td>bloom london gin</td>\n",
       "    </tr>\n",
       "    <tr>\n",
       "      <th>200002</th>\n",
       "      <td>5391338</td>\n",
       "      <td>HALALA</td>\n",
       "      <td>NO</td>\n",
       "    </tr>\n",
       "    <tr>\n",
       "      <th>200003</th>\n",
       "      <td>5391352</td>\n",
       "      <td>belongs to</td>\n",
       "      <td>68</td>\n",
       "    </tr>\n",
       "    <tr>\n",
       "      <th>200004</th>\n",
       "      <td>5391352</td>\n",
       "      <td>has embedding</td>\n",
       "      <td>[ 1.5381718   0.6189492   0.14235882 -0.178687...</td>\n",
       "    </tr>\n",
       "    <tr>\n",
       "      <th>...</th>\n",
       "      <td>...</td>\n",
       "      <td>...</td>\n",
       "      <td>...</td>\n",
       "    </tr>\n",
       "    <tr>\n",
       "      <th>252152</th>\n",
       "      <td>1716118</td>\n",
       "      <td>belongs to</td>\n",
       "      <td>13</td>\n",
       "    </tr>\n",
       "    <tr>\n",
       "      <th>252153</th>\n",
       "      <td>1716118</td>\n",
       "      <td>has embedding</td>\n",
       "      <td>[ 0.5587664   0.06479549  0.22427286 -0.241678...</td>\n",
       "    </tr>\n",
       "    <tr>\n",
       "      <th>252154</th>\n",
       "      <td>1716118</td>\n",
       "      <td>has name</td>\n",
       "      <td>In-cistern toilet blocks - green</td>\n",
       "    </tr>\n",
       "    <tr>\n",
       "      <th>252155</th>\n",
       "      <td>1716118</td>\n",
       "      <td>has description</td>\n",
       "      <td>in cistern blocks</td>\n",
       "    </tr>\n",
       "    <tr>\n",
       "      <th>252156</th>\n",
       "      <td>1716118</td>\n",
       "      <td>contains</td>\n",
       "      <td>Asda In-Cistern Toilet Blocks contain amongst ...</td>\n",
       "    </tr>\n",
       "  </tbody>\n",
       "</table>\n",
       "<p>52157 rows × 3 columns</p>\n",
       "</div>"
      ],
      "text/plain": [
       "        subject         relation  \\\n",
       "200000  5391338         has name   \n",
       "200001  5391338  has description   \n",
       "200002  5391338           HALALA   \n",
       "200003  5391352       belongs to   \n",
       "200004  5391352    has embedding   \n",
       "...         ...              ...   \n",
       "252152  1716118       belongs to   \n",
       "252153  1716118    has embedding   \n",
       "252154  1716118         has name   \n",
       "252155  1716118  has description   \n",
       "252156  1716118         contains   \n",
       "\n",
       "                                                   object  \n",
       "200000                                     London Dry Gin  \n",
       "200001                                  bloom london gin   \n",
       "200002                                                 NO  \n",
       "200003                                                 68  \n",
       "200004  [ 1.5381718   0.6189492   0.14235882 -0.178687...  \n",
       "...                                                   ...  \n",
       "252152                                                 13  \n",
       "252153  [ 0.5587664   0.06479549  0.22427286 -0.241678...  \n",
       "252154                   In-cistern toilet blocks - green  \n",
       "252155                                 in cistern blocks   \n",
       "252156  Asda In-Cistern Toilet Blocks contain amongst ...  \n",
       "\n",
       "[52157 rows x 3 columns]"
      ]
     },
     "execution_count": 50,
     "metadata": {},
     "output_type": "execute_result"
    }
   ],
   "source": [
    " dataset_test"
   ]
  },
  {
   "cell_type": "code",
   "execution_count": 59,
   "id": "622eda28-7383-45e1-b63e-fd45cca5ccd1",
   "metadata": {},
   "outputs": [],
   "source": [
    "predicted_relations_df = model.predict_heads('has embedding','[ 1.4178364e+00  4.4449863e-01  1.6245379e-01 -4.9157459e-01\\n  4.6078902e-01  7.6527309e-01  3.5819590e-01 -8.4713981e-02\\n -4.2308912e-01 -3.7759990e-01  1.0974705e-04  6.8457603e-02\\n  1.0139114e-01  1.5673411e-01 -2.8155923e-01  4.3659878e-01\\n  4.6835043e-02 -7.1725965e-01 -4.5355332e-01  1.2558793e-01\\n -6.5039968e-01 -1.1845857e-02 -7.2529054e-01  1.8429132e-01\\n -3.5272348e-01 -8.6590499e-02  3.3494207e-01  4.9175069e-02\\n  8.6882669e-01 -1.2273286e-01 -3.7505049e-01 -9.8512030e-01\\n -6.6902703e-01  3.1609619e-01 -2.3431823e-02  5.1809132e-01\\n -2.2471845e-01  3.1450453e-01 -2.3936813e-01  1.3491677e+00\\n -2.7146140e-01  8.6563677e-03 -4.5401603e-01  5.0742793e-01\\n  3.1605035e-01 -3.9499375e-01  6.9736499e-01 -2.2095814e-02\\n  8.0709732e-01 -1.1470693e-01  7.8610843e-01  5.7105994e-01\\n -5.7142131e-02  2.4997495e-01  1.1679511e+00 -9.0074480e-01\\n -9.2351067e-01 -7.2621107e-02  1.4001185e+00  5.9930491e-01\\n -7.8395033e-01 -6.1492437e-01 -2.6440117e-01 -3.5189211e-01\\n -1.6087724e-01 -6.3267395e-02 -2.8926536e-02  7.1973926e-01\\n -3.6862904e-01 -3.1852800e-01  9.4745898e-01 -3.0267692e-01\\n -4.4323623e-02  2.0175874e-03 -1.4191991e-01 -1.9859129e-01\\n -1.8231589e-01 -1.4825225e-02 -2.0543617e-01 -6.2277615e-01\\n -4.8420775e-01  9.9458285e-02  6.9533670e-01 -2.5497758e-01\\n -5.1805884e-01 -3.8071048e-01 -1.9772373e-01 -6.6752785e-01\\n -3.7900773e-01 -3.9876118e-01 -9.2332929e-01 -9.3607821e-02\\n  4.6443939e-03  1.1499728e-01 -1.1625032e+00  2.2580326e-02]')"
   ]
  },
  {
   "cell_type": "code",
   "execution_count": 60,
   "id": "9680316a-2ee8-43ae-847c-72eddd5459ab",
   "metadata": {},
   "outputs": [],
   "source": [
    "predicted_relations_df = predicted_relations_df[[\"head_label\",\"score\"]]"
   ]
  },
  {
   "cell_type": "code",
   "execution_count": 61,
   "id": "f2f13df4-ce21-43bd-8733-313841304180",
   "metadata": {},
   "outputs": [
    {
     "data": {
      "text/html": [
       "<div>\n",
       "<style scoped>\n",
       "    .dataframe tbody tr th:only-of-type {\n",
       "        vertical-align: middle;\n",
       "    }\n",
       "\n",
       "    .dataframe tbody tr th {\n",
       "        vertical-align: top;\n",
       "    }\n",
       "\n",
       "    .dataframe thead th {\n",
       "        text-align: right;\n",
       "    }\n",
       "</style>\n",
       "<table border=\"1\" class=\"dataframe\">\n",
       "  <thead>\n",
       "    <tr style=\"text-align: right;\">\n",
       "      <th></th>\n",
       "      <th>head_label</th>\n",
       "      <th>score</th>\n",
       "    </tr>\n",
       "  </thead>\n",
       "  <tbody>\n",
       "    <tr>\n",
       "      <th>21716</th>\n",
       "      <td>4832970</td>\n",
       "      <td>-4.648509</td>\n",
       "    </tr>\n",
       "    <tr>\n",
       "      <th>13938</th>\n",
       "      <td>4024866</td>\n",
       "      <td>-4.965787</td>\n",
       "    </tr>\n",
       "    <tr>\n",
       "      <th>6344</th>\n",
       "      <td>2935026</td>\n",
       "      <td>-5.077868</td>\n",
       "    </tr>\n",
       "    <tr>\n",
       "      <th>4696</th>\n",
       "      <td>2417659</td>\n",
       "      <td>-5.111721</td>\n",
       "    </tr>\n",
       "    <tr>\n",
       "      <th>52048</th>\n",
       "      <td>6188333</td>\n",
       "      <td>-5.146095</td>\n",
       "    </tr>\n",
       "    <tr>\n",
       "      <th>...</th>\n",
       "      <td>...</td>\n",
       "      <td>...</td>\n",
       "    </tr>\n",
       "    <tr>\n",
       "      <th>34760</th>\n",
       "      <td>5643749</td>\n",
       "      <td>-5.733669</td>\n",
       "    </tr>\n",
       "    <tr>\n",
       "      <th>25635</th>\n",
       "      <td>5123273</td>\n",
       "      <td>-5.735069</td>\n",
       "    </tr>\n",
       "    <tr>\n",
       "      <th>21005</th>\n",
       "      <td>4791026</td>\n",
       "      <td>-5.735336</td>\n",
       "    </tr>\n",
       "    <tr>\n",
       "      <th>51083</th>\n",
       "      <td>6153384</td>\n",
       "      <td>-5.736137</td>\n",
       "    </tr>\n",
       "    <tr>\n",
       "      <th>14556</th>\n",
       "      <td>4104965</td>\n",
       "      <td>-5.736329</td>\n",
       "    </tr>\n",
       "  </tbody>\n",
       "</table>\n",
       "<p>100 rows × 2 columns</p>\n",
       "</div>"
      ],
      "text/plain": [
       "      head_label     score\n",
       "21716    4832970 -4.648509\n",
       "13938    4024866 -4.965787\n",
       "6344     2935026 -5.077868\n",
       "4696     2417659 -5.111721\n",
       "52048    6188333 -5.146095\n",
       "...          ...       ...\n",
       "34760    5643749 -5.733669\n",
       "25635    5123273 -5.735069\n",
       "21005    4791026 -5.735336\n",
       "51083    6153384 -5.736137\n",
       "14556    4104965 -5.736329\n",
       "\n",
       "[100 rows x 2 columns]"
      ]
     },
     "execution_count": 61,
     "metadata": {},
     "output_type": "execute_result"
    }
   ],
   "source": [
    "predicted_relations_df[0:100]"
   ]
  },
  {
   "cell_type": "code",
   "execution_count": 65,
   "id": "6aa85cb6-b53d-4ff2-b876-d86a42e07d64",
   "metadata": {},
   "outputs": [
    {
     "data": {
      "text/plain": [
       "['57',\n",
       " 'Sweet chilli sauce',\n",
       " '[ 1.3209826   0.99569106  0.07693382 -0.28324342 -0.09421491 -0.27607903\\n  0.04677059  0.71056    -0.02801796 -0.25524005  0.41959643  0.41540113\\n  0.4971467   0.01819015  0.03365966  0.82866114 -0.18020488  0.23285425\\n  0.0300297  -0.5623849  -0.82297325  0.04890779 -1.2957355  -0.56823\\n -0.9493349  -0.13950065 -0.31527784 -0.38225022  0.76990515 -0.17395385\\n -0.78983086 -1.1316319   0.7488208   0.66586846  0.49911937  0.27408078\\n -0.5242784   0.22307783  0.16656142  1.0752048  -0.6125565  -0.56064713\\n -0.09532588  0.737284   -0.28028342 -0.52310824  0.5385279  -0.51680505\\n  0.55732137  0.30902353  1.0569826   0.55259264  0.588082    0.13491644\\n  0.74403673 -1.3047771  -0.13743412 -0.49945512  0.8194626   1.3667316\\n -0.85821956 -0.5458767  -0.08244971 -0.8815524  -0.37732387 -0.4993166\\n -0.21659029 -0.00703906 -0.10120893 -0.43693325  0.28870043  0.20353384\\n  0.37258765  0.27175918 -0.22328834 -0.7181223  -0.34808636  0.12685305\\n -0.58314383 -0.3390771   0.45357788  0.16912377  0.48740807  0.20590313\\n  0.15750764 -0.5471948  -0.13647877 -0.58130723 -0.4113553  -0.2817895\\n -0.6154801  -0.07054672  0.38974288 -0.60350907 -0.61054957  0.06735154]',\n",
       " 'asda chilli sauce ',\n",
       " 'Water, Sugar, Fructose Syrup, Pickled Garlic [Garlic, Water, Salt, Acidity Regulator (Acetic Acid)], Chilli Salted (3.5%) [Chillies, Salt], Modified Tapioca Starch, Acidity Regulator (Acetic Acid), Garlic, Salt, Stabiliser (Xanthan Gum)',\n",
       " 'NO']"
      ]
     },
     "execution_count": 65,
     "metadata": {},
     "output_type": "execute_result"
    }
   ],
   "source": [
    "dict2[5842652]\n"
   ]
  },
  {
   "cell_type": "code",
   "execution_count": 75,
   "id": "3ba49cad-52f4-4ab4-82cb-ea05e2e10abf",
   "metadata": {},
   "outputs": [
    {
     "data": {
      "text/plain": [
       "['63',\n",
       " 'Golden Vegetable Soup',\n",
       " '[ 1.1746961   0.422046    0.4464597   0.14101341 -0.07790689 -0.07616669\\n -0.73194695  0.24074641 -0.03474415 -0.61115265  0.5561523  -0.01286772\\n  0.6215981   0.07923648 -0.8373347   0.9716902   0.33035997 -0.59701496\\n -0.15450431 -0.64162326 -0.6321969  -0.09385481 -0.3610907  -0.20934853\\n -0.97618693 -0.51235425 -0.14578621 -0.47114122  0.16822916  0.08921011\\n -1.0655625  -0.46787086 -0.2626354  -0.43897298  0.9863069   0.3094452\\n  0.06127024 -0.26875383  0.02921997  1.2663326   0.15183759 -0.21201305\\n -0.1774419   0.6817509   0.04855915  0.41929507 -0.34380224  0.62086284\\n  0.90413773  0.31575415  0.06969097  0.12260796 -0.12393029  0.47573507\\n  0.13264577 -0.6757582  -0.26207185 -0.05988926  0.17677298  0.2172028\\n -0.6453358  -0.6086319  -0.05993016 -0.9341927   0.40136135 -0.42583674\\n -0.19077411 -0.26276767  0.14414246  0.5737179   0.7949504  -0.03969405\\n  0.18229784 -0.14165123  0.1037384  -0.51513743  0.08765504  0.02982178\\n -0.23526146 -0.3707581   0.54095     0.40480396  0.12415884 -0.01429065\\n -0.40784958 -0.6618587  -0.28370813 -0.44859666 -0.46209723  0.04321287\\n  0.16630515  0.04497694 -0.07035702 -0.6949469  -0.3761297   0.19178225]',\n",
       " \"Water, Vegetables (8%) (Swede, Onion, Carrot, Leek, Peas), Glucose Syrup, Maize Starch, Vegetable Oils (Palm, Sunflower), Salt, Yeast Extract (contains Barley), Sugar, Flavour Enhancers (Monosodium Glutamate, Disodium 5'-Ribonucleotides), Milk Proteins, Parsley, Flavourings (contain Celery), Emulsifier (Mono- and Diglycerides of Fatty Acids), Turmeric\",\n",
       " 'NO']"
      ]
     },
     "execution_count": 75,
     "metadata": {},
     "output_type": "execute_result"
    }
   ],
   "source": [
    "dict2[3670975]"
   ]
  },
  {
   "cell_type": "code",
   "execution_count": 66,
   "id": "7bfed867-2caa-4d81-9f69-b14951d9d752",
   "metadata": {},
   "outputs": [
    {
     "data": {
      "text/plain": [
       "52157"
      ]
     },
     "execution_count": 66,
     "metadata": {},
     "output_type": "execute_result"
    }
   ],
   "source": [
    "len(dataset_test)"
   ]
  },
  {
   "cell_type": "code",
   "execution_count": 69,
   "id": "30587467-4e18-49fa-a406-3e3d612ca0e5",
   "metadata": {},
   "outputs": [],
   "source": [
    "temp = dataset_test.iloc[52153]"
   ]
  },
  {
   "cell_type": "code",
   "execution_count": 70,
   "id": "2c310922-2950-44e4-bf13-f37b2030b0ea",
   "metadata": {},
   "outputs": [
    {
     "name": "stdout",
     "output_type": "stream",
     "text": [
      "subject                                               1716118\n",
      "relation                                        has embedding\n",
      "object      [ 0.5587664   0.06479549  0.22427286 -0.241678...\n",
      "Name: 252153, dtype: object\n"
     ]
    }
   ],
   "source": [
    "print(temp)"
   ]
  },
  {
   "cell_type": "code",
   "execution_count": 71,
   "id": "781886d7-eed2-4b1c-9b29-f1471999d072",
   "metadata": {},
   "outputs": [],
   "source": [
    "semp = temp[2]"
   ]
  },
  {
   "cell_type": "code",
   "execution_count": 72,
   "id": "d6a10c10-afe6-4c8b-8baf-e168a9dbf534",
   "metadata": {},
   "outputs": [
    {
     "data": {
      "text/plain": [
       "'[ 0.5587664   0.06479549  0.22427286 -0.2416781   0.25205418  0.36380756\\n -0.1503938  -0.14824514  0.29933056 -0.7254029   0.32318267  0.27572867\\n -0.1169517  -0.37324598 -0.04507834  0.48040423  0.12062969  0.08071828\\n -0.03776273 -0.20004344  0.0756281  -0.49113452 -0.39036205 -0.0770969\\n -0.5332435  -0.2715241  -0.08870979  0.29587224 -0.71591854  0.6156078\\n -0.51655513  0.06991722  0.36853293 -0.09708603  0.3311871   0.12809384\\n -0.53237295 -0.45381746  0.24032223  0.55848366  0.19090585 -0.02428705\\n -0.81254846 -0.21988767 -0.4228512   0.16048153  0.3597989  -0.19711666\\n  0.69874805  0.32264695  0.25505367  0.5382866   0.4486982   0.00421977\\n  0.2321396  -0.06853568 -0.5131584  -0.13498811  0.4567566   0.366495\\n -0.710839   -0.19331892  0.06895945 -0.96325916 -0.25133082  0.24531537\\n  0.39785957  0.9233222   0.61317843  0.25969583  0.39378297 -0.5077964\\n  0.06984036 -0.76473624  0.06484902  0.03067243 -0.13400227 -0.13948901\\n -0.4754401  -0.03011602 -0.79280037 -0.20181917  0.40888837  0.6554534\\n  0.3594376  -0.4524968  -0.62194544 -0.4336091   0.03695667 -0.6773413\\n -0.32237113  0.10150645  0.38191137  0.10697808  0.27651706 -0.13917714]'"
      ]
     },
     "execution_count": 72,
     "metadata": {},
     "output_type": "execute_result"
    }
   ],
   "source": [
    "semp"
   ]
  },
  {
   "cell_type": "code",
   "execution_count": 73,
   "id": "10bc055c-db08-4ebe-840c-2a5216de6031",
   "metadata": {},
   "outputs": [],
   "source": [
    "predicted_relations_df = model.predict_heads('has embedding',semp)"
   ]
  },
  {
   "cell_type": "code",
   "execution_count": 74,
   "id": "d924cdf5-3dba-40b5-9871-7af7f351a7e8",
   "metadata": {},
   "outputs": [],
   "source": [
    "predicted_relations_df = predicted_relations_df[[\"head_label\",\"score\"]]"
   ]
  },
  {
   "cell_type": "code",
   "execution_count": 76,
   "id": "e501950f-4794-4d1a-9e3a-a6ddc22c80a2",
   "metadata": {},
   "outputs": [
    {
     "data": {
      "text/html": [
       "<div>\n",
       "<style scoped>\n",
       "    .dataframe tbody tr th:only-of-type {\n",
       "        vertical-align: middle;\n",
       "    }\n",
       "\n",
       "    .dataframe tbody tr th {\n",
       "        vertical-align: top;\n",
       "    }\n",
       "\n",
       "    .dataframe thead th {\n",
       "        text-align: right;\n",
       "    }\n",
       "</style>\n",
       "<table border=\"1\" class=\"dataframe\">\n",
       "  <thead>\n",
       "    <tr style=\"text-align: right;\">\n",
       "      <th></th>\n",
       "      <th>head_label</th>\n",
       "      <th>score</th>\n",
       "    </tr>\n",
       "  </thead>\n",
       "  <tbody>\n",
       "    <tr>\n",
       "      <th>108756</th>\n",
       "      <td>[ 0.5587664   0.06479549  0.22427286 -0.241678...</td>\n",
       "      <td>-5.204075</td>\n",
       "    </tr>\n",
       "    <tr>\n",
       "      <th>39839</th>\n",
       "      <td>5806416</td>\n",
       "      <td>-5.779173</td>\n",
       "    </tr>\n",
       "    <tr>\n",
       "      <th>46853</th>\n",
       "      <td>6019146</td>\n",
       "      <td>-5.957638</td>\n",
       "    </tr>\n",
       "    <tr>\n",
       "      <th>45678</th>\n",
       "      <td>5997446</td>\n",
       "      <td>-5.993777</td>\n",
       "    </tr>\n",
       "    <tr>\n",
       "      <th>38140</th>\n",
       "      <td>5753453</td>\n",
       "      <td>-6.003761</td>\n",
       "    </tr>\n",
       "    <tr>\n",
       "      <th>...</th>\n",
       "      <td>...</td>\n",
       "      <td>...</td>\n",
       "    </tr>\n",
       "    <tr>\n",
       "      <th>25973</th>\n",
       "      <td>5149999</td>\n",
       "      <td>-6.565509</td>\n",
       "    </tr>\n",
       "    <tr>\n",
       "      <th>5307</th>\n",
       "      <td>2682863</td>\n",
       "      <td>-6.566432</td>\n",
       "    </tr>\n",
       "    <tr>\n",
       "      <th>23652</th>\n",
       "      <td>5002312</td>\n",
       "      <td>-6.566821</td>\n",
       "    </tr>\n",
       "    <tr>\n",
       "      <th>24731</th>\n",
       "      <td>5069034</td>\n",
       "      <td>-6.567694</td>\n",
       "    </tr>\n",
       "    <tr>\n",
       "      <th>47480</th>\n",
       "      <td>6035591</td>\n",
       "      <td>-6.569272</td>\n",
       "    </tr>\n",
       "  </tbody>\n",
       "</table>\n",
       "<p>100 rows × 2 columns</p>\n",
       "</div>"
      ],
      "text/plain": [
       "                                               head_label     score\n",
       "108756  [ 0.5587664   0.06479549  0.22427286 -0.241678... -5.204075\n",
       "39839                                             5806416 -5.779173\n",
       "46853                                             6019146 -5.957638\n",
       "45678                                             5997446 -5.993777\n",
       "38140                                             5753453 -6.003761\n",
       "...                                                   ...       ...\n",
       "25973                                             5149999 -6.565509\n",
       "5307                                              2682863 -6.566432\n",
       "23652                                             5002312 -6.566821\n",
       "24731                                             5069034 -6.567694\n",
       "47480                                             6035591 -6.569272\n",
       "\n",
       "[100 rows x 2 columns]"
      ]
     },
     "execution_count": 76,
     "metadata": {},
     "output_type": "execute_result"
    }
   ],
   "source": [
    "predicted_relations_df[0:100]"
   ]
  },
  {
   "cell_type": "code",
   "execution_count": 77,
   "id": "267f5411-198c-49e5-be63-f70aaa76ba8e",
   "metadata": {},
   "outputs": [
    {
     "data": {
      "text/plain": [
       "['13',\n",
       " 'Zero Limescale - Ocean Power',\n",
       " '[ 0.04710454  0.47168458  0.16906491  0.09924127  0.11847043  0.37885737\\n  0.20974419 -0.6284598   0.07407607 -0.11103144  0.20653245  0.2695554\\n  0.39113042  0.21462585 -0.53235716  1.3797905   0.49531555 -0.68752146\\n -0.1476866   0.27046326 -0.40220737  0.12562647 -1.178255    0.26255944\\n -0.45525587 -0.07088569 -0.64210933 -0.2008603   0.9655845  -0.14482218\\n -0.52903306 -0.74939466  0.44717807 -0.07724212 -0.5099958   0.5672072\\n -0.44778717 -0.2586537   0.10468397  1.0392553  -0.07329471 -0.75446403\\n -0.48646656  0.1925792  -0.03839353 -0.06351724  0.600738    0.01964998\\n  1.1300932   0.89636177 -0.3798381   0.51618016 -0.4307598  -0.16988659\\n  0.9296105  -0.46573663  0.00436887  0.03885761 -0.20723933  0.6184056\\n -0.828447   -0.12964204 -0.41766    -0.08992562 -0.7578611  -0.17256835\\n  0.12112231  0.6499211  -0.26436916 -0.714128    0.75260866  0.187721\\n  0.21495822 -0.6298613  -0.6171432  -0.59115195  0.31404665 -0.07068449\\n  0.03628556  0.05398478  0.06540437 -0.18229648  0.6576968   0.7106237\\n -0.2938018  -1.0747945  -0.51274836 -1.047167   -0.29884785  0.04827342\\n -0.582542   -0.28199723  1.0952814  -0.2364243   0.33990204  0.14090736]',\n",
       " 'domestos limescale ',\n",
       " 'Disinfectant: -Hydrochloric Acid 8g per 100g, < 5% Non-Ionic Surfactants, Cationic Surfactants, Perfume',\n",
       " 'Nothing']"
      ]
     },
     "execution_count": 77,
     "metadata": {},
     "output_type": "execute_result"
    }
   ],
   "source": [
    "dict2[3476594]"
   ]
  },
  {
   "cell_type": "code",
   "execution_count": 78,
   "id": "b0e74cd5-a58f-468b-a90d-53e00a651227",
   "metadata": {},
   "outputs": [
    {
     "data": {
      "text/plain": [
       "['13',\n",
       " '',\n",
       " '[ 1.284423    0.5383638   0.32121032 -0.20636943 -0.20099123  0.17842495\\n -1.1882803   0.4686786   0.08632997  0.30265796  0.5999032  -0.22991498\\n  0.14371163 -0.4451364  -0.8330768   1.0587006  -0.23015547  0.3830276\\n -0.04861841 -0.10924056 -0.6385388   0.19361088 -0.90128964 -0.4094884\\n -0.70684254 -0.31886858  0.08564293 -0.09824584  0.56575334  0.573066\\n -0.50533766 -0.58748686  0.45273882 -0.44185042 -0.12289    -0.1494793\\n -0.6716522   0.27847868 -0.03697228  1.4991568  -0.21773604 -0.32339233\\n -0.5724316   0.5914913  -0.45110258 -0.3044392   0.32906127  0.24679446\\n  1.1461394   0.12181333  0.78768986 -0.03516516 -0.00607356 -0.08060595\\n  0.23118295 -0.44270417 -0.65880865 -0.3582586   0.91012156  0.26712647\\n -0.7514163  -0.51411456  0.2982749  -0.36966008  0.15718591 -0.8382033\\n -0.46778238 -0.18822554  0.09113955 -0.00807004  0.4919327  -0.26414075\\n  0.87399673 -0.18046801 -0.1736891  -0.10386588 -0.5078538   0.56274366\\n  0.01159041 -0.53345126 -0.5561217   0.25929883  0.4305976   0.44922316\\n -0.00971223  0.5046987  -0.64326614 -0.37476182  0.07020877 -0.29664254\\n -0.59704834  0.24437341  0.877273   -0.31688285 -0.13063681 -0.8103557 ]',\n",
       " 'glade auto spray refill',\n",
       " 'Nothing']"
      ]
     },
     "execution_count": 78,
     "metadata": {},
     "output_type": "execute_result"
    }
   ],
   "source": [
    "dict2[4519962]"
   ]
  },
  {
   "cell_type": "code",
   "execution_count": 82,
   "id": "5aad6931-8eb5-416a-87f1-20b98e259c92",
   "metadata": {},
   "outputs": [
    {
     "data": {
      "text/plain": [
       "['46',\n",
       " 'Skin Active 3 in 1 Hydrating Aloe Water Jelly',\n",
       " '[ 0.37893367  0.27765134  0.2074234   0.16187967 -0.15688078 -0.10532247\\n -0.66850346 -0.01861316  0.17250146 -0.18172707 -0.45028746 -0.3791864\\n -0.34340057 -0.9487267  -0.53258187  1.3610477  -0.10680846 -0.8045973\\n -0.071683    0.1381218   0.33561268  0.0360972  -0.7119772  -0.03085679\\n -0.56568855 -0.54650486 -0.5343799  -0.3299614   0.63052654  0.50498074\\n -0.5790906  -0.18090932  0.73517126 -0.06145574  0.17026024  0.43087673\\n -0.40325025 -0.60007954  0.31838813  1.0459381  -0.21065332 -1.1231123\\n -0.3153985   0.811604   -1.3042582  -0.5899      0.52334243  0.03728141\\n  1.0631369   0.78282714  0.13787942  0.35423204 -0.4969389  -0.9517061\\n  0.46364656  0.1876601   0.11342443 -0.35052207  0.13574956  0.57933277\\n -0.8144472  -0.38291332 -0.49008593 -0.2553177   0.69812757 -0.7620768\\n  0.45991313  0.2737037   0.7721033  -0.33542097  0.5440996  -0.02383046\\n  0.707267   -0.42528725 -0.05116286 -0.3958458   0.36373737 -0.04497005\\n  0.30904332 -0.6249141   0.54228526 -0.01125981  0.5037684   0.23969632\\n  0.9845411   0.2645237  -0.5177039  -0.73516256 -0.1143996  -0.5247726\\n -0.21506459  0.09106809  1.4966761  -0.26608852  0.84501344 -0.5710214 ]',\n",
       " 'garnier natural balm ',\n",
       " '967316 81, Aqua / Water, Glycerin, Propanediol, Alcohol Denat., Pentylene Glycol, Polyglyceryl-10 Laurate, Aloe Barbadensis Leaf Juice Powder, Vitis Vinifera Fruit Water / Grape Fruit Water, Sodium Hyaluronate, Sodium Hydroxide, Caprylyl Glycol, Citric Acid, Acrylates/C10-30 Alkyl Acrylate Crosspolymer, Salicylic Acid, Parfum / Fragrance, (F.I.L B214511/1)',\n",
       " 'Nothing']"
      ]
     },
     "execution_count": 82,
     "metadata": {},
     "output_type": "execute_result"
    }
   ],
   "source": [
    "dict2[5997446]"
   ]
  },
  {
   "cell_type": "code",
   "execution_count": 83,
   "id": "77623537-bcf8-4367-9742-34178457d420",
   "metadata": {},
   "outputs": [],
   "source": [
    "temp = dataset_test.iloc[52155]"
   ]
  },
  {
   "cell_type": "code",
   "execution_count": 84,
   "id": "d4229bce-171a-4426-a9eb-7a562047a980",
   "metadata": {},
   "outputs": [
    {
     "data": {
      "text/plain": [
       "subject                1716118\n",
       "relation       has description\n",
       "object      in cistern blocks \n",
       "Name: 252155, dtype: object"
      ]
     },
     "execution_count": 84,
     "metadata": {},
     "output_type": "execute_result"
    }
   ],
   "source": [
    "temp"
   ]
  },
  {
   "cell_type": "code",
   "execution_count": 85,
   "id": "ff65d1e2-1040-4088-81dd-ac139ff480ed",
   "metadata": {},
   "outputs": [],
   "source": [
    "semp = temp[2]"
   ]
  },
  {
   "cell_type": "code",
   "execution_count": 86,
   "id": "8284a9f2-dc2b-4a0b-bdaa-bfc5c5f926c8",
   "metadata": {},
   "outputs": [],
   "source": [
    "predicted_relations_df = model.predict_heads('has description',semp)"
   ]
  },
  {
   "cell_type": "code",
   "execution_count": 88,
   "id": "e315e2a3-6565-45c4-b2cb-be8e75a5879e",
   "metadata": {},
   "outputs": [],
   "source": [
    "predicted_relations_df = predicted_relations_df[[\"head_label\",\"score\"]]"
   ]
  },
  {
   "cell_type": "code",
   "execution_count": 89,
   "id": "10f46adf-ec00-431a-b79c-ed79aadd84e0",
   "metadata": {},
   "outputs": [
    {
     "data": {
      "text/html": [
       "<div>\n",
       "<style scoped>\n",
       "    .dataframe tbody tr th:only-of-type {\n",
       "        vertical-align: middle;\n",
       "    }\n",
       "\n",
       "    .dataframe tbody tr th {\n",
       "        vertical-align: top;\n",
       "    }\n",
       "\n",
       "    .dataframe thead th {\n",
       "        text-align: right;\n",
       "    }\n",
       "</style>\n",
       "<table border=\"1\" class=\"dataframe\">\n",
       "  <thead>\n",
       "    <tr style=\"text-align: right;\">\n",
       "      <th></th>\n",
       "      <th>head_label</th>\n",
       "      <th>score</th>\n",
       "    </tr>\n",
       "  </thead>\n",
       "  <tbody>\n",
       "    <tr>\n",
       "      <th>150376</th>\n",
       "      <td>in cistern blocks</td>\n",
       "      <td>-5.122031</td>\n",
       "    </tr>\n",
       "    <tr>\n",
       "      <th>39147</th>\n",
       "      <td>5792310</td>\n",
       "      <td>-5.172913</td>\n",
       "    </tr>\n",
       "    <tr>\n",
       "      <th>2270</th>\n",
       "      <td>1716118</td>\n",
       "      <td>-5.267462</td>\n",
       "    </tr>\n",
       "    <tr>\n",
       "      <th>24708</th>\n",
       "      <td>5066182</td>\n",
       "      <td>-5.533955</td>\n",
       "    </tr>\n",
       "    <tr>\n",
       "      <th>51992</th>\n",
       "      <td>6187633</td>\n",
       "      <td>-5.558639</td>\n",
       "    </tr>\n",
       "    <tr>\n",
       "      <th>...</th>\n",
       "      <td>...</td>\n",
       "      <td>...</td>\n",
       "    </tr>\n",
       "    <tr>\n",
       "      <th>43970</th>\n",
       "      <td>5922488</td>\n",
       "      <td>-6.204496</td>\n",
       "    </tr>\n",
       "    <tr>\n",
       "      <th>36453</th>\n",
       "      <td>5703691</td>\n",
       "      <td>-6.209095</td>\n",
       "    </tr>\n",
       "    <tr>\n",
       "      <th>8852</th>\n",
       "      <td>3387787</td>\n",
       "      <td>-6.211422</td>\n",
       "    </tr>\n",
       "    <tr>\n",
       "      <th>20202</th>\n",
       "      <td>4740751</td>\n",
       "      <td>-6.215156</td>\n",
       "    </tr>\n",
       "    <tr>\n",
       "      <th>47177</th>\n",
       "      <td>6029464</td>\n",
       "      <td>-6.215314</td>\n",
       "    </tr>\n",
       "  </tbody>\n",
       "</table>\n",
       "<p>100 rows × 2 columns</p>\n",
       "</div>"
      ],
      "text/plain": [
       "                head_label     score\n",
       "150376  in cistern blocks  -5.122031\n",
       "39147              5792310 -5.172913\n",
       "2270               1716118 -5.267462\n",
       "24708              5066182 -5.533955\n",
       "51992              6187633 -5.558639\n",
       "...                    ...       ...\n",
       "43970              5922488 -6.204496\n",
       "36453              5703691 -6.209095\n",
       "8852               3387787 -6.211422\n",
       "20202              4740751 -6.215156\n",
       "47177              6029464 -6.215314\n",
       "\n",
       "[100 rows x 2 columns]"
      ]
     },
     "execution_count": 89,
     "metadata": {},
     "output_type": "execute_result"
    }
   ],
   "source": [
    "predicted_relations_df[0:100]"
   ]
  },
  {
   "cell_type": "code",
   "execution_count": 92,
   "id": "eba00e49-d98e-4b9c-8a23-bf9ae3df76c8",
   "metadata": {},
   "outputs": [
    {
     "data": {
      "text/plain": [
       "['13',\n",
       " 'In-cistern toilet blocks - green',\n",
       " '[ 0.5587664   0.06479549  0.22427286 -0.2416781   0.25205418  0.36380756\\n -0.1503938  -0.14824514  0.29933056 -0.7254029   0.32318267  0.27572867\\n -0.1169517  -0.37324598 -0.04507834  0.48040423  0.12062969  0.08071828\\n -0.03776273 -0.20004344  0.0756281  -0.49113452 -0.39036205 -0.0770969\\n -0.5332435  -0.2715241  -0.08870979  0.29587224 -0.71591854  0.6156078\\n -0.51655513  0.06991722  0.36853293 -0.09708603  0.3311871   0.12809384\\n -0.53237295 -0.45381746  0.24032223  0.55848366  0.19090585 -0.02428705\\n -0.81254846 -0.21988767 -0.4228512   0.16048153  0.3597989  -0.19711666\\n  0.69874805  0.32264695  0.25505367  0.5382866   0.4486982   0.00421977\\n  0.2321396  -0.06853568 -0.5131584  -0.13498811  0.4567566   0.366495\\n -0.710839   -0.19331892  0.06895945 -0.96325916 -0.25133082  0.24531537\\n  0.39785957  0.9233222   0.61317843  0.25969583  0.39378297 -0.5077964\\n  0.06984036 -0.76473624  0.06484902  0.03067243 -0.13400227 -0.13948901\\n -0.4754401  -0.03011602 -0.79280037 -0.20181917  0.40888837  0.6554534\\n  0.3594376  -0.4524968  -0.62194544 -0.4336091   0.03695667 -0.6773413\\n -0.32237113  0.10150645  0.38191137  0.10697808  0.27651706 -0.13917714]',\n",
       " 'in cistern blocks ',\n",
       " 'Asda In-Cistern Toilet Blocks contain amongst other ingredients: More than 30% Anionic Surfactants, Less than 5% Non-Ionic Surfactants, Phosphonate, Also contains: Limonene',\n",
       " 'Nothing']"
      ]
     },
     "execution_count": 92,
     "metadata": {},
     "output_type": "execute_result"
    }
   ],
   "source": [
    "dict2[1716118]"
   ]
  },
  {
   "cell_type": "code",
   "execution_count": 93,
   "id": "a68ae97e-f478-48ab-8ef8-b2c7fff5304c",
   "metadata": {},
   "outputs": [
    {
     "data": {
      "text/plain": [
       "['46',\n",
       " 'Cool Mint Mouthwash',\n",
       " '[ 0.230221    0.9594511   0.3842507   0.1003041  -0.38795438 -0.23705237\\n -0.8149496  -0.5313909  -0.90994847  0.13981219 -0.5850901   0.23514783\\n  0.37833565  0.45312428 -1.048762    1.70226     0.16779578 -0.5118073\\n -0.3424315  -0.4222702   0.22929129  0.04969276 -0.6135459   0.20470993\\n -0.51636696 -0.22129421  0.40481007 -0.39283717  0.20856191  0.6628611\\n -0.8951328  -0.7148862  -0.17711022 -0.73940575  1.0113343   0.13503554\\n -0.18856429  0.17218576  0.2026104   1.3247807  -0.01368485 -0.9330354\\n -0.40369016  1.1578393  -0.7351993  -0.32826698  0.7038246   1.0995054\\n  0.49252608  0.07911141  0.24476385  0.5770182  -0.4454157   0.40594625\\n  0.42027324 -0.98743606 -0.38224253 -0.23674563  0.7621084  -0.07745926\\n -0.47881275 -0.24315375 -0.14130352 -0.28199846  0.07419965 -0.37075147\\n -0.5425384  -0.8136277   0.84656656  0.21538103  1.4148371  -0.46809262\\n  0.30084935 -0.80660534  0.13315621  0.02565945 -0.05883685 -0.27289766\\n -0.2136467   0.26988274  0.15976936 -0.24312717  0.38591793  0.17878683\\n -0.68909085  0.46769327 -0.25545925 -0.1658783  -0.5397236  -0.580209\\n -0.7085284   0.47540417  0.42082906 -0.7724475  -0.56318    -0.466433  ]',\n",
       " 'listerine mouthwash ',\n",
       " '[PR-009041], Aqua, Alcohol, Sorbitol, Poloxamer 407, Benzoic Acid, Sodium Saccharin, Eucalyptol, Aroma, Methyl Salicylate, Thymol, Menthol, Sodium Benzoate, CI 42053',\n",
       " 'Nothing']"
      ]
     },
     "execution_count": 93,
     "metadata": {},
     "output_type": "execute_result"
    }
   ],
   "source": [
    "dict2[4740751]"
   ]
  },
  {
   "cell_type": "code",
   "execution_count": null,
   "id": "335cc3a7-e1f0-4f09-b695-9bd3cfe4b61a",
   "metadata": {},
   "outputs": [],
   "source": []
  }
 ],
 "metadata": {
  "kernelspec": {
   "display_name": "Python 3",
   "language": "python",
   "name": "python3"
  },
  "language_info": {
   "codemirror_mode": {
    "name": "ipython",
    "version": 3
   },
   "file_extension": ".py",
   "mimetype": "text/x-python",
   "name": "python",
   "nbconvert_exporter": "python",
   "pygments_lexer": "ipython3",
   "version": "3.6.8"
  }
 },
 "nbformat": 4,
 "nbformat_minor": 5
}
